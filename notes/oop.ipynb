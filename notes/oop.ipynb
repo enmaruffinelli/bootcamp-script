{
 "cells": [
  {
   "cell_type": "markdown",
   "metadata": {},
   "source": [
    "# Programación orientada a objetos"
   ]
  },
  {
   "cell_type": "markdown",
   "metadata": {},
   "source": [
    "Python también permite la programación orientada a objetos, que es un paradigma de programación en la que los datos y las operaciones que pueden realizarse con esos datos se agrupan en unidades lógicas llamadas <b>objetos</b>.\n",
    "\n",
    "Los objetos suelen representar conceptos del dominio del programa, como un estudiante, un coche, un teléfono, etc. Los datos que describen las características del objeto se llaman atributos y son la parte estática del objeto, mientras que las operaciones que puede realizar el objeto se llaman métodos y son la parte dinámica del objeto.\n",
    "\n",
    "La programación orientada a objetos permite simplificar la estructura y la lógica de los grandes programas en los que intervienen muchos objetos que interactúan entre si."
   ]
  },
  {
   "cell_type": "markdown",
   "metadata": {},
   "source": [
    "## Clases"
   ]
  },
  {
   "cell_type": "code",
   "execution_count": 1,
   "metadata": {},
   "outputs": [],
   "source": [
    "# Creando una clase vacía\n",
    "class Penguin:\n",
    "    pass\n",
    "\n",
    "# Creamos un objeto de la clase Penguin\n",
    "mi_pinguino = Penguin()"
   ]
  },
  {
   "cell_type": "markdown",
   "metadata": {},
   "source": [
    "## Definiendo atributos\n",
    "\n",
    "Es importante distinguir que existen dos tipos de atributos:\n",
    "\n",
    "- <u>Atributos de instancia</u>: Pertenecen a la instancia de la clase o al objeto. Son atributos particulares de cada instancia, en nuestro caso de cada pingüino.\n",
    "- <u>Atributos de clase</u>: Se trata de atributos que pertenecen a la clase, por lo tanto serán comunes para todos los objetos."
   ]
  },
  {
   "cell_type": "code",
   "execution_count": 5,
   "metadata": {},
   "outputs": [
    {
     "name": "stdout",
     "output_type": "stream",
     "text": [
      "Creando pingüino: 'Enri', Emperador\n",
      "<class '__main__.Penguin'>\n",
      "Ave\n",
      "Ave\n",
      "Enri\n",
      "Emperador\n"
     ]
    }
   ],
   "source": [
    "class Penguin:\n",
    "    # Definiendo un atributo de clase\n",
    "    categoria = \"Ave\"\n",
    "\n",
    "    # El método __init__ es llamado al crear el objeto\n",
    "    def __init__(self, nombre, especie):\n",
    "        print(\"Creando pingüino: \" + \"'\" + nombre + \"', \" + especie)\n",
    "\n",
    "        # Atributos de instancia\n",
    "        self.nombre = nombre\n",
    "        self.especie = especie\n",
    "\n",
    "# Creando un pingüino\n",
    "mi_pinguino = Penguin(\"Enri\", \"Emperador\")\n",
    "\n",
    "# Viendo qué tipo de dato es mi_pinguino\n",
    "print(type(mi_pinguino))\n",
    "\n",
    "# Viendo qué clase de animal es\n",
    "print(Penguin.categoria)\n",
    "print(mi_pinguino.categoria)\n",
    "print(mi_pinguino.nombre)\n",
    "print(mi_pinguino.especie)\n"
   ]
  },
  {
   "cell_type": "markdown",
   "metadata": {},
   "source": [
    "### Ejercicio\n",
    "\n",
    "Crear dos `class` de animales que tengan atributos de instancia y de clase.\n",
    "\n",
    "- Atributo de instancia: `nombre` & `color`.\n",
    "- Atributo de clase: `especie`.\n",
    "\n",
    "Luego, crear nuevos objetos a partir de las nuevas `class`. Imprimir el `nombre` y el `color` de los animales en una frase que diga: \"Me llamo Alex y soy un ave de color blanco\"."
   ]
  },
  {
   "cell_type": "code",
   "execution_count": 10,
   "metadata": {},
   "outputs": [
    {
     "name": "stdout",
     "output_type": "stream",
     "text": [
      "Me llamo Michi y soy un mamifero de color gris\n",
      "Me llamo Rene y soy un anfibio de color verde\n"
     ]
    }
   ],
   "source": [
    "class Gato:\n",
    "    especie = \"mamifero\"\n",
    "\n",
    "    def __init__ (self, nombre, color):\n",
    "        self.nombre = nombre\n",
    "        self.color = color\n",
    "\n",
    "gato1 = Gato(\"Michi\", \"gris\")\n",
    "\n",
    "class Rana:\n",
    "    especie = \"anfibio\"\n",
    "\n",
    "    def __init__ (self, nombre, color):\n",
    "        self.nombre = nombre\n",
    "        self.color = color\n",
    "\n",
    "rana1 = Rana(\"Rene\", \"verde\")\n",
    "\n",
    "print(\"Me llamo \" + gato1.nombre + \" y soy un \" + Gato.especie + \" de color \" + gato1.color)\n",
    "print(\"Me llamo \" + rana1.nombre + \" y soy un \" + Rana.especie + \" de color \" + rana1.color)\n",
    "\n"
   ]
  },
  {
   "cell_type": "code",
   "execution_count": 2,
   "metadata": {},
   "outputs": [
    {
     "name": "stdout",
     "output_type": "stream",
     "text": [
      "Me llamo Alex y soy un Nubia de color marron\n"
     ]
    }
   ],
   "source": [
    "# Solucion de Clau\n",
    "\n",
    "class Leon:\n",
    "    especie = \"Nubia\"\n",
    "    \n",
    "    def __init__(self, nombre, color):\n",
    "        print(\"Me llamo \" + nombre + \" y soy un \" + self.especie + \" de color \" + color)\n",
    "        \n",
    "        self.nombre = nombre\n",
    "        self.color = color\n",
    "        \n",
    "objeto = Leon(\"Alex\", \"marron\")"
   ]
  },
  {
   "cell_type": "markdown",
   "metadata": {},
   "source": [
    "---"
   ]
  },
  {
   "cell_type": "markdown",
   "metadata": {},
   "source": [
    "## Definiendo métodos\n",
    "\n",
    "En realidad cuando usamos `__init__` anteriormente ya estábamos definiendo un método, solo que uno especial. A continuación vamos a ver como definir métodos que le den alguna funcionalidad interesante a nuestra clase de pingüino."
   ]
  },
  {
   "cell_type": "code",
   "execution_count": 37,
   "metadata": {},
   "outputs": [
    {
     "name": "stdout",
     "output_type": "stream",
     "text": [
      "Creando pingüino: 'Enri', Emperador\n",
      "<class '__main__.Penguin'>\n",
      "Ave\n",
      "Enri\n",
      "Wooooshhhhh!!!!!\n",
      "Caminando 100 pasos, lenta y torpemente\n"
     ]
    }
   ],
   "source": [
    "class Penguin:\n",
    "    # Definiendo un atributo de clase\n",
    "    clase = \"Ave\"\n",
    "\n",
    "    # El método __init__ es llamado al crear el objeto\n",
    "    def __init__(self, nombre, especie):\n",
    "        print(\"Creando pingüino: \" + \"'\" + nombre + \"', \" + especie)\n",
    "\n",
    "        # Atributos de instancia\n",
    "        self.nombre = nombre\n",
    "        self.especie = especie\n",
    "    \n",
    "    def nada(self):\n",
    "        print(\"Wooooshhhhh!!!!!\")\n",
    "\n",
    "    def camina(self, pasos):\n",
    "        print(f\"Caminando {pasos} pasos, lenta y torpemente\")\n",
    "\n",
    "# Creando un pingüino\n",
    "mi_pinguino = Penguin(\"Enri\", \"Emperador\")\n",
    "\n",
    "# Viendo qué tipo de dato es mi_pinguino\n",
    "print(type(mi_pinguino))\n",
    "\n",
    "# Viendo qué clase de animal es\n",
    "print(Penguin.clase)\n",
    "print(mi_pinguino.nombre)\n",
    "\n",
    "# Métodos: acciones de nuestro pinguino\n",
    "mi_pinguino.nada()\n",
    "mi_pinguino.camina(100)"
   ]
  },
  {
   "cell_type": "markdown",
   "metadata": {},
   "source": [
    "### Ejercicio\n",
    "\n",
    "Crear dos métodos por animal, que sea `hablar` y `moverse`. \n",
    "\n",
    "- En el método `hablar`, imprimir: \"Cuando hablo, digo X\".\n",
    "- En el método `mover`, imprimir: \"Cuando me muevo, hago X\"."
   ]
  },
  {
   "cell_type": "code",
   "execution_count": 3,
   "metadata": {},
   "outputs": [
    {
     "name": "stdout",
     "output_type": "stream",
     "text": [
      "Hola mi nombre es Aquiles y soy un gato de color Blanco\n",
      "Lo unico que mi gato sabe decir esMiau lastimosamente\n",
      "El gato cuando tiene hambre va a la cocina que esta a 100 pasos de su arenero.\n"
     ]
    }
   ],
   "source": [
    "class Gato:\n",
    "    Especie = \"Mamifero\"\n",
    "    def __init__(self, nombre, color):\n",
    "        print(\"Hola mi nombre es \" + nombre + \" \" \"y soy un gato de color \" + color)\n",
    "        self.nombre = nombre\n",
    "        self.color = color\n",
    "    def habla(self, habla):\n",
    "        print(\"Lo unico que mi gato sabe decir es\" + habla + \" \" \"lastimosamente\")\n",
    "    def pasos(self, pasos):\n",
    "        print(f\"El gato cuando tiene hambre va a la cocina que esta a {pasos} pasos de su arenero.\")\n",
    "mi_gato = Gato(\"Aquiles\", \"Blanco\")\n",
    "\n",
    "mi_gato.habla(\"Miau\")\n",
    "mi_gato.pasos(100)\n",
    "\n",
    "    \n"
   ]
  },
  {
   "cell_type": "code",
   "execution_count": 3,
   "metadata": {},
   "outputs": [
    {
     "name": "stdout",
     "output_type": "stream",
     "text": [
      "Me llamo Yoda y soy un alien de color verde\n",
      "Cuando hablo, digo do or do not. There is no try.\n",
      "Cuando me muevo, hago silencio.\n"
     ]
    }
   ],
   "source": [
    "# Solucion de Ysis\n",
    "\n",
    "class perro():\n",
    "    especie = \"alien\"\n",
    "    \n",
    "    def __init__(self, nombre, color):\n",
    "        print(\"Me llamo \" + nombre + \" y soy un \" + perro.especie + \" de color \" + color)\n",
    "\n",
    "        self.nombre = nombre\n",
    "        self.color = color\n",
    "    \n",
    "    def habla(self):\n",
    "        print(\"Cuando hablo, digo do or do not. There is no try.\")\n",
    "    \n",
    "    def camina(self):\n",
    "        print(\"Cuando me muevo, hago silencio.\")\n",
    "\n",
    "mi_perro = perro(\"Yoda\", \"verde\")\n",
    "\n",
    "mi_perro.habla()\n",
    "mi_perro.camina()"
   ]
  },
  {
   "cell_type": "markdown",
   "metadata": {},
   "source": [
    "---"
   ]
  },
  {
   "cell_type": "markdown",
   "metadata": {},
   "source": [
    "## Herencia\n",
    "\n",
    "La herencia es un proceso mediante el cual se puede crear una clase hija que hereda de una clase padre, compartiendo sus métodos y atributos. Además de ello, una clase hija puede sobreescribir los métodos o atributos, o incluso definir unos nuevos.\n",
    "\n",
    "Se puede crear una clase hija con tan solo pasar como parámetro la clase de la que queremos heredar. En el siguiente ejemplo vemos como se puede usar la herencia en Python, con la clase <b>Penguin</b> que hereda de <b>Animal</b>. Así de fácil."
   ]
  },
  {
   "cell_type": "code",
   "execution_count": 48,
   "metadata": {},
   "outputs": [
    {
     "name": "stdout",
     "output_type": "stream",
     "text": [
      "(<class '__main__.Animal'>,)\n",
      "Piton\n",
      "10\n",
      "ssSsssSSSSsssS\n",
      "Soy un animal del tipo Serpiente\n"
     ]
    }
   ],
   "source": [
    "class Animal:\n",
    "    def __init__(self, especie, edad):\n",
    "        self.especie = especie\n",
    "        self.edad = edad\n",
    "\n",
    "    # Método genérico pero con implementación particular\n",
    "    def hablar(self):\n",
    "        # Método vacío\n",
    "        pass\n",
    "\n",
    "    # Método genérico con la misma implementación\n",
    "    def describeme(self):\n",
    "        print(\"Soy un animal del tipo\", type(self).__name__)\n",
    "\n",
    "class Serpiente(Animal):\n",
    "    # Definiendo un atributo de clase\n",
    "    clase = \"Reptil\"\n",
    "\n",
    "    def hablar(self):\n",
    "        print(\"ssSsssSSSSsssS\")\n",
    "\n",
    "# Corroborar la herencia\n",
    "print(Serpiente.__bases__)\n",
    "\n",
    "mi_serpiente = Serpiente(\"Piton\", 10)\n",
    "print(mi_serpiente.especie)\n",
    "print(mi_serpiente.edad)\n",
    "\n",
    "mi_serpiente.hablar()\n",
    "mi_serpiente.describeme()"
   ]
  },
  {
   "cell_type": "markdown",
   "metadata": {},
   "source": [
    "¿Y para que queremos la herencia? Dado que una clase hija hereda los atributos y métodos de la padre, nos puede ser muy útil cuando tengamos clases que se parecen entre sí pero tienen ciertas particularidades. En este caso en vez de definir un montón de clases para cada animal, podemos tomar los elementos comunes y crear una clase Animal de la que hereden el resto, respetando por tanto la filosofía DRY. Realizar estas abstracciones y buscar el denominador común para definir una clase de la que hereden las demás, es una tarea de lo más compleja en el mundo de la programación.\n",
    "\n",
    "Para saber más: El principio DRY (Don't Repeat Yourself) es muy aplicado en el mundo de la programación y consiste en no repetir código de manera innecesaria. Cuanto más código duplicado exista, más difícil será de modificar y más fácil será crear inconsistencias. Las clases y la herencia a no repetir código."
   ]
  },
  {
   "cell_type": "markdown",
   "metadata": {},
   "source": [
    "---"
   ]
  },
  {
   "cell_type": "markdown",
   "metadata": {},
   "source": [
    "### Ejercicio\n",
    "\n",
    "Definir una clase madre que herede a sus clases hijas dos atributos de instancia. Mostrar ambos atributos en pantalla desde los objetos de las clases hijas.\n",
    "\n",
    "<u>Observación</u>: Editar las clases hijas para que no se inicialicen."
   ]
  },
  {
   "cell_type": "code",
   "execution_count": 4,
   "metadata": {},
   "outputs": [
    {
     "name": "stdout",
     "output_type": "stream",
     "text": [
      "True\n",
      "True\n"
     ]
    }
   ],
   "source": [
    "class Terricolas:\n",
    "    def __init__ (self, respirar_carbono, luz_solar):\n",
    "        self.respirar_carbono = respirar_carbono\n",
    "        self.luz_solar = luz_solar\n",
    "\n",
    "class Humanos(Terricolas):\n",
    "    categoria= \"Terrestres\"\n",
    "\n",
    "    def describeme(self):\n",
    "        print(\"Soy un terricola del tipo \", type(self).__name__)\n",
    "\n",
    "paladin = Humanos(True,True)\n",
    "print(paladin.respirar_carbono)\n",
    "print(paladin.luz_solar)\n"
   ]
  },
  {
   "cell_type": "code",
   "execution_count": 4,
   "metadata": {},
   "outputs": [
    {
     "name": "stdout",
     "output_type": "stream",
     "text": [
      "8\n",
      "aloh\n",
      "*no se mueve*\n",
      "lame tu cola jsjsjs\n"
     ]
    }
   ],
   "source": [
    "# Solucion de Ruben\n",
    "\n",
    "class madre():\n",
    "    def __init__(self, nombre, edad):\n",
    "        self.nombre = nombre\n",
    "        self.edad = edad\n",
    "    \n",
    "    def saludar(self):\n",
    "        print(\"aloh\")\n",
    "    \n",
    "    def moverse(self):\n",
    "        print(\"*se mueve*\")\n",
    "\n",
    "class hijas(madre):\n",
    "    def decir_hola(self):\n",
    "        print(\"lame tu cola jsjsjs\")\n",
    "    \n",
    "    def moverse(self):\n",
    "        print(\"*no se mueve*\")\n",
    "\n",
    "descendientes = hijas(\"reinalda\", 8)\n",
    "print(descendientes.edad)\n",
    "descendientes.saludar()\n",
    "descendientes.moverse()\n",
    "descendientes.decir_hola()"
   ]
  },
  {
   "cell_type": "code",
   "execution_count": 7,
   "metadata": {},
   "outputs": [
    {
     "name": "stdout",
     "output_type": "stream",
     "text": [
      "hola soy nico robin\n",
      "solo tomo cafe\n",
      "humano\n",
      "30\n",
      "hola me llamo ace\n",
      "antes comia pero me hicieron dona\n",
      "humano\n",
      "20\n"
     ]
    }
   ],
   "source": [
    "# Solucion de Sebas\n",
    "\n",
    "class one_piece():\n",
    "    def __init__(self, especie, edad):\n",
    "        self.especie = especie\n",
    "        self.edad = edad\n",
    "    \n",
    "    def hablar(self):\n",
    "        print(\"hola\")\n",
    "    \n",
    "    def describeme(self):\n",
    "        print(\"Soy un nakama :) \")\n",
    "    \n",
    "class nico_robin(one_piece):\n",
    "    clase = \"paramencia\"\n",
    "    \n",
    "    def hablar(self):\n",
    "        print(\"hola soy nico robin\")\n",
    "        \n",
    "    def comer(self):\n",
    "        print(\"solo tomo cafe\")\n",
    "\n",
    "class ace(one_piece):\n",
    "    clase = \"logia\"\n",
    "    \n",
    "    def hablar(self):\n",
    "        print(\"hola me llamo ace\")\n",
    "\n",
    "    def comer(self):\n",
    "        print(\"antes comia pero me hicieron dona\")\n",
    "\n",
    "the_nico_robin = nico_robin(\"humano\", 30)\n",
    "the_nico_robin.hablar()\n",
    "the_nico_robin.comer()\n",
    "print(the_nico_robin.especie)\n",
    "print(the_nico_robin.edad)   \n",
    "\n",
    "the_ace = ace(\"humano\", 20)\n",
    "the_ace.hablar()\n",
    "the_ace.comer()\n",
    "print(the_ace.especie)\n",
    "print(the_ace.edad) "
   ]
  }
 ],
 "metadata": {
  "interpreter": {
   "hash": "aee8b7b246df8f9039afb4144a1f6fd8d2ca17a180786b69acc140d282b71a49"
  },
  "kernelspec": {
   "display_name": "Python 3.9.10 64-bit",
   "language": "python",
   "name": "python3"
  },
  "language_info": {
   "codemirror_mode": {
    "name": "ipython",
    "version": 3
   },
   "file_extension": ".py",
   "mimetype": "text/x-python",
   "name": "python",
   "nbconvert_exporter": "python",
   "pygments_lexer": "ipython3",
   "version": "3.9.12"
  },
  "orig_nbformat": 4
 },
 "nbformat": 4,
 "nbformat_minor": 2
}
