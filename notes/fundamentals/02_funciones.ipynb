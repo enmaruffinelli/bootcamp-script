{
 "cells": [
  {
   "cell_type": "markdown",
   "metadata": {},
   "source": [
    "# Funciones\n",
    "\n",
    "Una función es un bloque de código que tiene asociado un nombre, de manera que cada vez que se quiera ejecutar el bloque de código basta con invocar el nombre de la función. Una función es un bloque de código, al cual asociamos un nombre. Cada vez que queramos utilizar y ejecutar ese bloque de código en particular, lo “llamamos” o invocamos con el nombre de la función."
   ]
  },
  {
   "cell_type": "code",
   "execution_count": 1,
   "metadata": {},
   "outputs": [
    {
     "name": "stdout",
     "output_type": "stream",
     "text": [
      "Buenas tardes, penguins!\n"
     ]
    }
   ],
   "source": [
    "# Función con texto\n",
    "\n",
    "def mi_funcion():\n",
    "    print(\"Buenas tardes, penguins!\")\n",
    "    # print(\"Mi nombre es Enmanuel\")\n",
    "    # print(\"Juntos estamos aprendiendo Python\")\n",
    "\n",
    "mi_funcion()"
   ]
  },
  {
   "cell_type": "markdown",
   "metadata": {},
   "source": [
    "## Parámetros y argumentos\n",
    "\n",
    "Una función puede recibir valores cuando se invoca a través de unas variables conocidas como parámetros que se definen entre paréntesis en la declaración de la función. En el cuerpo de la función se pueden usar estos parámetros como si fuesen variables. Los valores que se pasan a la función en una llamada o invocación concreta de ella se conocen como argumentos y se asocian a los parámetros de la declaración de la función. Con las funciones podemos utilizar valores, y dependiendo del contexto, reciben nombres diferentes.\n",
    "\n",
    "- <u>Parámetro</u>: cuando la función recibe valores al momento de la definición, estos valores tienen el nombre de parámetros. Los parámetros van entre paréntesis en la definición de la función, y dentro del cuerpo de la función pueden usarse estos valores como si fuesen variables.\n",
    "\n",
    "- <u>Argumento</U>: cuando llamamos la función para que se ejecute, los valores que recibe la función son llamados argumentos, y estos argumentos están asociados a los parámetros que se definieron anteriormente."
   ]
  },
  {
   "cell_type": "code",
   "execution_count": 2,
   "metadata": {},
   "outputs": [
    {
     "name": "stdout",
     "output_type": "stream",
     "text": [
      "Hola. Mi nombre es Sofía!\n"
     ]
    }
   ],
   "source": [
    "def mi_print(nombre):\n",
    "    print(\"Hola. Mi nombre es \" + nombre + \"!\")\n",
    "\n",
    "mi_print(\"Sofía\")"
   ]
  },
  {
   "cell_type": "code",
   "execution_count": 5,
   "metadata": {},
   "outputs": [
    {
     "name": "stdout",
     "output_type": "stream",
     "text": [
      "Hola Claudia. Soy Steven y te doy la bienvenida a Penguin!\n",
      "Hola Claudia. Soy Steven y te doy la bienvenida a Penguin!\n",
      "Hola Claudia. Soy Steven y te doy la bienvenida a Penguin!\n"
     ]
    }
   ],
   "source": [
    "def mi_print_de_bienvenida(nombre_alumno, nombre_coach):\n",
    "    print(\"Hola \" + nombre_alumno + \". Soy \" + nombre_coach + \" y te doy la bienvenida a Penguin!\")\n",
    "\n",
    "mi_print_de_bienvenida(\"Claudia\", \"Steven\")\n",
    "mi_print_de_bienvenida(nombre_alumno=\"Claudia\", nombre_coach=\"Steven\")\n",
    "mi_print_de_bienvenida(nombre_coach=\"Steven\", nombre_alumno=\"Claudia\")"
   ]
  },
  {
   "cell_type": "code",
   "execution_count": null,
   "metadata": {},
   "outputs": [],
   "source": [
    "def mi_print_de_bienvenida(nombre_alumno, nombre_coach):\n",
    "    print(\"Hola \" + nombre_alumno + \". Soy \" + nombre_coach + \" y te doy la bienvenida a Penguin!\")\n",
    "\n",
    "mi_print_de_bienvenida(nombre_alumno=\"Alumno\", nombre_coach=\"Enmanuel\")"
   ]
  },
  {
   "cell_type": "markdown",
   "metadata": {},
   "source": [
    "---"
   ]
  },
  {
   "cell_type": "markdown",
   "metadata": {},
   "source": [
    "## Challenge 🤺\n",
    "\n",
    "Definir una función que tome dos números como parámetros y los imprima sumándolos."
   ]
  },
  {
   "cell_type": "code",
   "execution_count": 3,
   "metadata": {},
   "outputs": [
    {
     "name": "stdout",
     "output_type": "stream",
     "text": [
      "64\n"
     ]
    }
   ],
   "source": [
    "def sumar_numeros(numero1, numero2): #, c):\n",
    "    print(numero1 + numero2)\n",
    "\n",
    "sumar_numeros(12, 52) #, 100)"
   ]
  },
  {
   "cell_type": "code",
   "execution_count": 7,
   "metadata": {},
   "outputs": [
    {
     "name": "stdout",
     "output_type": "stream",
     "text": [
      "5\n"
     ]
    }
   ],
   "source": [
    "# Solucion de Lea\n",
    "\n",
    "def mi_print(numero1, numero2):\n",
    "    print(numero1 + numero2)\n",
    "\n",
    "mi_print(2,3)"
   ]
  },
  {
   "cell_type": "code",
   "execution_count": 8,
   "metadata": {},
   "outputs": [
    {
     "name": "stdout",
     "output_type": "stream",
     "text": [
      "Aca esta tu resultado: 3\n"
     ]
    }
   ],
   "source": [
    "# Solucion de Federico\n",
    "\n",
    "def mi_suma(numerox, numeroy):\n",
    "    print(\"Aca esta tu resultado:\", int(numerox) + int(numeroy))\n",
    "    \n",
    "mi_suma(input(\"Escribi tu primer numero\"), input(\"Escribi tu segundo numero\"))"
   ]
  },
  {
   "cell_type": "markdown",
   "metadata": {},
   "source": [
    "---"
   ]
  },
  {
   "cell_type": "markdown",
   "metadata": {},
   "source": [
    " ## Función personalizada vs función built-in\n",
    "\n",
    " En Python tenemos una lista de funciones que ya están incluidas y podemos utilizarlas cuando queramos. Es más, ya las estuvimos utilizando con `print()`, `int()`, `input()`..."
   ]
  },
  {
   "cell_type": "code",
   "execution_count": 4,
   "metadata": {},
   "outputs": [
    {
     "data": {
      "text/plain": [
       "10"
      ]
     },
     "execution_count": 4,
     "metadata": {},
     "output_type": "execute_result"
    }
   ],
   "source": [
    "numeros = [1, 4, 5]\n",
    "\n",
    "sum(numeros)"
   ]
  },
  {
   "cell_type": "markdown",
   "metadata": {},
   "source": [
    "## Alcance (scope)\n",
    "\n",
    "Los parámetros y las variables declaradas dentro de una función son de ámbito local, mientras que las definidas fuera de ella son de ámbito ámbito global.\n",
    "\n",
    "Una variable o parámetro está solamente disponible dentro de la región donde fue creada. A esto lo llamamos “alcance”.\n",
    "\n",
    "### Alcance local\n",
    "\n",
    "- <u>Alcance local</u>: una variable creada dentro de una función solamente pertenece al alcance de esa función, y solo puede ser utilizada dentro de esa función. Tanto los parámetros como las variables del ámbito local de una función sólo están accesibles durante la ejecución de la función, es decir, cuando termina la ejecución de la función estas variables desaparecen y no son accesibles desde fuera de la función.\n",
    "\n",
    "Así como lo vemos en el ejemplo debajo, la variable `valor` no está disponible fuera de la función, pero sí está disponible para cualquier función dentro de la función."
   ]
  },
  {
   "cell_type": "code",
   "execution_count": 6,
   "metadata": {},
   "outputs": [
    {
     "name": "stdout",
     "output_type": "stream",
     "text": [
      "2000\n"
     ]
    }
   ],
   "source": [
    "def imprimir_precio():\n",
    "    valor = 2000\n",
    "    print(valor)\n",
    "\n",
    "imprimir_precio()"
   ]
  },
  {
   "cell_type": "markdown",
   "metadata": {},
   "source": [
    "- <u>Alcance global</u>: una variable creada en el cuerpo principal del código de Python es una variable global y pertenece al alcance global. Las variables globales están disponibles desde cualquier tipo de alcance, global y local."
   ]
  },
  {
   "cell_type": "code",
   "execution_count": 5,
   "metadata": {},
   "outputs": [
    {
     "name": "stdout",
     "output_type": "stream",
     "text": [
      "10000\n"
     ]
    }
   ],
   "source": [
    "precio_global = 10000\n",
    "\n",
    "def imprimir_precio():\n",
    "    print(precio_global)\n",
    "\n",
    "imprimir_precio()"
   ]
  },
  {
   "cell_type": "markdown",
   "metadata": {},
   "source": [
    "---"
   ]
  },
  {
   "cell_type": "markdown",
   "metadata": {},
   "source": [
    "## Challenge 🤺\n",
    "\n",
    "Escribir una función que calcule el total a abonar por IVA según un monto. La función debe recibir un monto, y devolver solamente el monto del IVA. \n",
    "\n",
    "<u>Observación:</u>\n",
    "\n",
    "1. Para calcular el IVA dividimos el monto entre `11`.\n",
    "2. Para redondear un número, utilizamos la función `round()`.\n",
    "3. Para convertir a texto un número, utilizamos la función `str()`."
   ]
  },
  {
   "cell_type": "code",
   "execution_count": 6,
   "metadata": {},
   "outputs": [
    {
     "name": "stdout",
     "output_type": "stream",
     "text": [
      "El monto a abonar por IVA es 4545 guaraníes.\n"
     ]
    }
   ],
   "source": [
    "def factura(monto):\n",
    "    monto_iva = monto / 11\n",
    "    print(\"El monto a abonar por IVA es \" + str(round(monto_iva)) + \" guaraníes.\")\n",
    "\n",
    "factura(50000)"
   ]
  },
  {
   "cell_type": "code",
   "execution_count": 11,
   "metadata": {},
   "outputs": [
    {
     "name": "stdout",
     "output_type": "stream",
     "text": [
      "El monto del IVA aportado es de 1818\n"
     ]
    }
   ],
   "source": [
    "# Solucion de Joel\n",
    "\n",
    "def abono_iva(monto_con_iva):\n",
    "    iva = 11\n",
    "    print(f'El monto del IVA aportado es de {round(monto_con_iva / iva)}')\n",
    "\n",
    "abono_iva(20000)"
   ]
  },
  {
   "cell_type": "code",
   "execution_count": 12,
   "metadata": {},
   "outputs": [
    {
     "name": "stdout",
     "output_type": "stream",
     "text": [
      "Tu deuda total es 7273\n"
     ]
    }
   ],
   "source": [
    "# Solucion de Oliver\n",
    "\n",
    "deuda = int(input(\"Agregue un valor X: \"))\n",
    "\n",
    "def mi_deuda(deuda):\n",
    "    print(\"Tu deuda total es\", round(deuda/11))\n",
    "    \n",
    "mi_deuda(deuda)"
   ]
  }
 ],
 "metadata": {
  "interpreter": {
   "hash": "aee8b7b246df8f9039afb4144a1f6fd8d2ca17a180786b69acc140d282b71a49"
  },
  "kernelspec": {
   "display_name": "Python 3.9.10 64-bit",
   "language": "python",
   "name": "python3"
  },
  "language_info": {
   "codemirror_mode": {
    "name": "ipython",
    "version": 3
   },
   "file_extension": ".py",
   "mimetype": "text/x-python",
   "name": "python",
   "nbconvert_exporter": "python",
   "pygments_lexer": "ipython3",
   "version": "3.9.12"
  },
  "orig_nbformat": 4
 },
 "nbformat": 4,
 "nbformat_minor": 2
}
