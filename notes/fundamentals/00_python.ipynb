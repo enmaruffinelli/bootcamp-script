{
 "cells": [
  {
   "cell_type": "markdown",
   "metadata": {},
   "source": [
    "# Introducción\n",
    "\n",
    "## ¿Qué es Python?\n",
    "\n",
    "Python es un lenguaje simple y minimalista. Leer un buen programa en Python se siente casi como leer inglés, aunque un inglés muy estricto. Esta naturaleza de pseudo-código de Python es una de sus más grandes fortalezas: te permite concentrarte en la solución al problema antes que en el lenguaje en sí.\n",
    "\n",
    "## Ventajas de Python\n",
    "\n",
    "- Es de código abierto.\n",
    "- Es fácil de aprender gracias a que su sintaxis es bastante legible para los humanos.\n",
    "- Es un lenguaje maduro (un poco más de 30 años).\n",
    "- Esta mantenido por una gran comunidad de desarrolladores y hay multitud de recursos para su aprendizaje.\n",
    "\n",
    "## ¿Quién creó Python?\n",
    "\n",
    "Fue creado por Guido van Rossum en 1990, aunque actualmente es desarrollado y mantenido por la Python Software Foundation."
   ]
  },
  {
   "cell_type": "markdown",
   "metadata": {},
   "source": [
    "---"
   ]
  },
  {
   "cell_type": "markdown",
   "metadata": {},
   "source": [
    "## Primer encuentro con Python: Hello World!"
   ]
  },
  {
   "cell_type": "code",
   "execution_count": 1,
   "metadata": {},
   "outputs": [
    {
     "name": "stdout",
     "output_type": "stream",
     "text": [
      "Hola mundo\n"
     ]
    }
   ],
   "source": [
    "print(\"Hola mundo\")"
   ]
  }
 ],
 "metadata": {
  "interpreter": {
   "hash": "aee8b7b246df8f9039afb4144a1f6fd8d2ca17a180786b69acc140d282b71a49"
  },
  "kernelspec": {
   "display_name": "Python 3.9.10 64-bit",
   "language": "python",
   "name": "python3"
  },
  "language_info": {
   "codemirror_mode": {
    "name": "ipython",
    "version": 3
   },
   "file_extension": ".py",
   "mimetype": "text/x-python",
   "name": "python",
   "nbconvert_exporter": "python",
   "pygments_lexer": "ipython3",
   "version": "3.9.10"
  },
  "orig_nbformat": 4
 },
 "nbformat": 4,
 "nbformat_minor": 2
}
