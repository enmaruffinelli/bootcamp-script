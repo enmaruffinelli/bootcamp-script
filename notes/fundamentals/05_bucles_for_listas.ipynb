{
 "cells": [
  {
   "cell_type": "markdown",
   "metadata": {},
   "source": [
    "# Bucles iterativos (for)\n",
    "\n",
    "Repite la ejecución del bloque de código para cada elemento de la secuencia secuencia, asignado dicho elemento a `i` en cada repetición.\n",
    "\n",
    "Se puede interrumpir en cualquier momento la ejecución del bloque de código con la instrucción `break` o saltar la ejecución para un determinado elemento de la secuencia con la instrucción continue.\n",
    "\n",
    "Se utiliza fundamentalmente para recorrer colecciones de objetos como cadenas, listas, o diccionarios."
   ]
  },
  {
   "cell_type": "markdown",
   "metadata": {},
   "source": [
    "---"
   ]
  },
  {
   "cell_type": "markdown",
   "metadata": {},
   "source": [
    "## Listas\n",
    "\n",
    "Una lista es una secuencias ordenadas de objetos, que pueden ser de distintos tipos de datos. Las construimos colocando los elementos entre corchetes [ ] y separados por comas.\n",
    "\n",
    "<u>Características de las listas</u>: tienen orden, pueden contener elementos de diferentes tipos, son mutables, lo que significa que pueden cambiar durante la ejecución del programa."
   ]
  },
  {
   "cell_type": "code",
   "execution_count": 1,
   "metadata": {},
   "outputs": [
    {
     "name": "stdout",
     "output_type": "stream",
     "text": [
      "naranjas\n",
      "piñas\n",
      "5\n",
      "['naranjas', 'peras', 'piñas', 'kiwis', 'sandías', 'ciruelas']\n",
      "['naranjas', 'duraznos', 'peras', 'piñas', 'kiwis', 'sandías', 'ciruelas']\n",
      "['naranjas', 'duraznos', 'peras', 'piñas', 'sandías', 'ciruelas']\n",
      "['naranjas', 'duraznos', 'peras', 'sandías', 'ciruelas']\n"
     ]
    }
   ],
   "source": [
    "lista_frutas = [\"naranjas\", \"peras\", \"piñas\", \"kiwis\", \"sandías\"]\n",
    "\n",
    "# Diferentes tipos de datos en lista\n",
    "lista_bool = [True, False, True, False]\n",
    "lista_numeros = [1.99, 2, 3, 4.5, 5]\n",
    "lista_variada = [\"peras\", 10, False]\n",
    "\n",
    "# Acceso a elementos de una lista\n",
    "# Un índice es un número entero que indica la posición de un elemento en una lista\n",
    "# El primer elemento de una lista siempre comienza en el índice 0\n",
    "# Por ejemplo, en una lista con 4 elementos, los índices de cada uno de los ítems serían 0, 1, 2 y 3\n",
    "print(lista_frutas[0])\n",
    "print(lista_frutas[2])\n",
    "\n",
    "# Contar elementos de una lista\n",
    "print(len(lista_frutas))\n",
    "\n",
    "# Añadir elemento al final de la lista\n",
    "lista_frutas.append(\"ciruelas\")\n",
    "print(lista_frutas)\n",
    "\n",
    "# insert nos permite añadir el elemento eligiendo la posición\n",
    "lista_frutas.insert(1, \"duraznos\")\n",
    "print(lista_frutas)\n",
    "\n",
    "# Eliminar elemento específico por valor\n",
    "lista_frutas.remove(\"kiwis\")\n",
    "print(lista_frutas)\n",
    "\n",
    "# Eliminar elemento específico por posición\n",
    "lista_frutas.pop(3)\n",
    "print(lista_frutas)"
   ]
  },
  {
   "cell_type": "markdown",
   "metadata": {},
   "source": [
    "---"
   ]
  },
  {
   "cell_type": "markdown",
   "metadata": {},
   "source": [
    "## Challenge 🤺\n",
    "\n",
    "Crear una lista de integrantes de la mesa.\n",
    "\n",
    "**Imprimir**: \n",
    "- Integrante 1: Fabri\n",
    "- Integrante 2: Clau\n",
    "- ..."
   ]
  },
  {
   "cell_type": "code",
   "execution_count": 3,
   "metadata": {},
   "outputs": [
    {
     "name": "stdout",
     "output_type": "stream",
     "text": [
      "Integrante numero 1: Estrella\n",
      "Integrante numero 2: Marcelo\n",
      "Integrante numero 3: Liz\n",
      "Integrante numero 4: Carlos\n",
      "Integrante numero 5: Mario\n",
      "Integrante numero 6: Dario\n",
      "Integrante numero 7: Ivana\n"
     ]
    }
   ],
   "source": [
    "integrantes = ['Estrella', 'Marcelo','Liz','Carlos','Mario','Dario','Ivana']\n",
    "\n",
    "print(\"Integrante numero 1: \" + integrantes[0])\n",
    "print(\"Integrante numero 2: \" + integrantes[1])\n",
    "print(\"Integrante numero 3: \" + integrantes[2])\n",
    "print(\"Integrante numero 4: \" + integrantes[3])\n",
    "print(\"Integrante numero 5: \" + integrantes[4])\n",
    "print(\"Integrante numero 6: \" + integrantes[5])\n",
    "print(\"Integrante numero 7: \" + integrantes[6])"
   ]
  },
  {
   "cell_type": "code",
   "execution_count": 6,
   "metadata": {},
   "outputs": [
    {
     "name": "stdout",
     "output_type": "stream",
     "text": [
      "- Integrante número 1: Luz\n",
      "- Integrante número 2: Fede\n",
      "- Integrante número 3: Claudia\n"
     ]
    }
   ],
   "source": [
    "participantes = [\"Luz\", \"Fede\", \"Claudia\"]\n",
    "contador = 0\n",
    "\n",
    "for personas in participantes:\n",
    "    contador +=1\n",
    "    print('- Integrante número ' + str(contador) + \": \" + personas)"
   ]
  },
  {
   "cell_type": "code",
   "execution_count": 8,
   "metadata": {},
   "outputs": [
    {
     "name": "stdout",
     "output_type": "stream",
     "text": [
      "Integrante 1 Ivan Acuña\n",
      "Integrante 2 Diego Mendoza\n",
      "Integrante 3 Martin Fernandez\n",
      "Integrante 4 Oscar Estigarribia\n"
     ]
    }
   ],
   "source": [
    "# Solucion de Oscar\n",
    "\n",
    "lista_mesa = [\"Ivan Acuña\", \"Diego Mendoza\", \"Martin Fernandez\", \"Oscar Estigarribia\"]\n",
    "print(\"Integrante 1\", lista_mesa[0])\n",
    "print(\"Integrante 2\", lista_mesa[1])\n",
    "print(\"Integrante 3\", lista_mesa[2])\n",
    "print(\"Integrante 4\", lista_mesa[3])"
   ]
  },
  {
   "cell_type": "code",
   "execution_count": 2,
   "metadata": {},
   "outputs": [
    {
     "name": "stdout",
     "output_type": "stream",
     "text": [
      "Manu\n",
      "Jose\n",
      "Claudia\n",
      "Luis\n",
      "Angy\n"
     ]
    }
   ],
   "source": [
    "# Solucion de Angy\n",
    "\n",
    "lista_integrantes = [\"Manu\", \"Jose\", \"Claudia\", \"Luis\", \"Angy\"]\n",
    "print(lista_integrantes[0])\n",
    "print(lista_integrantes[1])\n",
    "print(lista_integrantes[2])\n",
    "print(lista_integrantes[3])\n",
    "print(lista_integrantes[4])"
   ]
  },
  {
   "cell_type": "code",
   "execution_count": 4,
   "metadata": {},
   "outputs": [
    {
     "name": "stdout",
     "output_type": "stream",
     "text": [
      "Integrante 1 es Jony\n",
      "Integrante 2 es Espacio_1\n",
      "Integrante 3 es Espacio_2\n",
      "Integrante 4 es Espacio_3\n"
     ]
    }
   ],
   "source": [
    "# Solucion de Jony\n",
    "\n",
    "personas_mesa = [\"Jony\", \"Espacio_1\", \"Espacio_2\", \"Espacio_3\"]\n",
    "indice = 0\n",
    "longitud_lista = len(personas_mesa)\n",
    "test = 0\n",
    "\n",
    "while test != longitud_lista:\n",
    "    test = test + 1\n",
    "    print(\"Integrante\", test, \"es\", personas_mesa[indice])\n",
    "    indice = indice + 1"
   ]
  },
  {
   "cell_type": "markdown",
   "metadata": {},
   "source": [
    "---"
   ]
  },
  {
   "cell_type": "markdown",
   "metadata": {},
   "source": [
    "# Volviendo a `for`"
   ]
  },
  {
   "cell_type": "code",
   "execution_count": 4,
   "metadata": {},
   "outputs": [
    {
     "name": "stdout",
     "output_type": "stream",
     "text": [
      "h\n",
      "e\n",
      "l\n",
      "l\n",
      "o\n"
     ]
    }
   ],
   "source": [
    "palabra = input(\"Introduzca una palabra: \")\n",
    "\n",
    "for letra in palabra:\n",
    "    print(letra)"
   ]
  },
  {
   "cell_type": "code",
   "execution_count": 5,
   "metadata": {},
   "outputs": [
    {
     "name": "stdout",
     "output_type": "stream",
     "text": [
      "- Pan\n",
      "- Mantequilla\n",
      "- Arándanos\n",
      "- Miel\n"
     ]
    }
   ],
   "source": [
    "lista_compras = [\"Pan\", \"Mantequilla\", \"Arándanos\", \"Miel\"]\n",
    "\n",
    "for cosas in lista_compras:\n",
    "    print('-', cosas)"
   ]
  },
  {
   "cell_type": "code",
   "execution_count": 6,
   "metadata": {},
   "outputs": [
    {
     "name": "stdout",
     "output_type": "stream",
     "text": [
      "Steven tqm nunca cambies xfa\n",
      "Steven tqm nunca cambies xfa\n",
      "Steven tqm nunca cambies xfa\n",
      "Steven tqm nunca cambies xfa\n",
      "Steven tqm nunca cambies xfa\n",
      "Steven tqm nunca cambies xfa\n",
      "Steven tqm nunca cambies xfa\n"
     ]
    }
   ],
   "source": [
    "for frase in range(7):\n",
    "    print(\"Steven tqm nunca cambies xfa\")"
   ]
  },
  {
   "cell_type": "markdown",
   "metadata": {},
   "source": [
    "---"
   ]
  },
  {
   "cell_type": "markdown",
   "metadata": {},
   "source": [
    "## Challenge 🤺\n",
    "\n",
    "Escribir un programa en el que se pregunte al usuario por una frase y una letra, y muestre por pantalla el número de veces que aparece la letra en la frase."
   ]
  },
  {
   "cell_type": "code",
   "execution_count": 1,
   "metadata": {},
   "outputs": [
    {
     "name": "stdout",
     "output_type": "stream",
     "text": [
      "La letra [a] aparece 3 veces en la frase: 'hola carola'\n"
     ]
    }
   ],
   "source": [
    "frase = input(\"Introduce una frase: \")\n",
    "letra_ingresada = input(\"Introduce una letra: \")\n",
    "\n",
    "contador = 0\n",
    "\n",
    "for letra_de_la_frase in frase:\n",
    "    if letra_de_la_frase == letra_ingresada:\n",
    "        contador += 1\n",
    "print(\"La letra [\" + letra_ingresada + \"] aparece \" + str(contador) + \" veces en la frase: '\" + frase +\"'\")"
   ]
  },
  {
   "cell_type": "code",
   "execution_count": 5,
   "metadata": {},
   "outputs": [
    {
     "name": "stdout",
     "output_type": "stream",
     "text": [
      "La cantidad de veces que la letra <o>, aparece en la frase <hello>, es 1\n"
     ]
    }
   ],
   "source": [
    "# Solucion de Clau\n",
    "\n",
    "frase = input(\"Introduzca una frase: \")\n",
    "letra_elegida = input(\"Introduzca una letra: \")\n",
    "cantidad_repeticion = 0\n",
    "\n",
    "for letra in frase:\n",
    "    if letra_elegida == letra:\n",
    "        cantidad_repeticion += 1\n",
    "\n",
    "print(\"La cantidad de veces que la letra <\" + letra_elegida + \">, aparece en la frase <\"+ frase+ \">, es \" + str(cantidad_repeticion))"
   ]
  },
  {
   "cell_type": "code",
   "execution_count": 9,
   "metadata": {},
   "outputs": [
    {
     "name": "stdout",
     "output_type": "stream",
     "text": [
      "2\n"
     ]
    }
   ],
   "source": [
    "# Solucion de Ichi\n",
    "\n",
    "frase = input(\"Introduzca una canción de Taylor Swift\")\n",
    "vocal = input(\"Introduzca cualquier letra\")\n",
    "contador = 0\n",
    "\n",
    "for t in frase:\n",
    "    if vocal == t:\n",
    "        contador += 1\n",
    "print(contador)"
   ]
  },
  {
   "cell_type": "code",
   "execution_count": 10,
   "metadata": {},
   "outputs": [
    {
     "name": "stdout",
     "output_type": "stream",
     "text": [
      "2\n"
     ]
    }
   ],
   "source": [
    "# Solucion de Fabri\n",
    "\n",
    "palabra = input(\"di alguna frase\")\n",
    "contador = 0\n",
    "letra_buscada = input(\"ahora una letra\")\n",
    "for letra in palabra:\n",
    "    if letra == letra_buscada:\n",
    "        contador = contador + 1\n",
    "print(contador)"
   ]
  }
 ],
 "metadata": {
  "interpreter": {
   "hash": "aee8b7b246df8f9039afb4144a1f6fd8d2ca17a180786b69acc140d282b71a49"
  },
  "kernelspec": {
   "display_name": "Python 3.9.10 64-bit",
   "language": "python",
   "name": "python3"
  },
  "language_info": {
   "codemirror_mode": {
    "name": "ipython",
    "version": 3
   },
   "file_extension": ".py",
   "mimetype": "text/x-python",
   "name": "python",
   "nbconvert_exporter": "python",
   "pygments_lexer": "ipython3",
   "version": "3.9.12"
  },
  "orig_nbformat": 4
 },
 "nbformat": 4,
 "nbformat_minor": 2
}
