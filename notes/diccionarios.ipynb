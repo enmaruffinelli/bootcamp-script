{
 "cells": [
  {
   "cell_type": "markdown",
   "metadata": {},
   "source": [
    "# Diccionarios\n",
    "\n",
    "Un diccionario es una colección de pares formados por una clave y un valor asociado a la clave. Se construyen poniendo los pares entre llaves { } separados por comas, y separando la clave del valor con dos puntos :.\n",
    "\n",
    "Se caracterizan por:\n",
    "\n",
    "- No tienen orden.\n",
    "- Pueden contener elementos de distintos tipos.\n",
    "- Son mutables, es decir, pueden alterarse durante la ejecución de un programa.\n",
    "- Las claves son únicas, es decir, no pueden repetirse en un mismo diccionario, y pueden ser de cualquier tipo de datos inmutable.\n"
   ]
  },
  {
   "cell_type": "code",
   "execution_count": null,
   "metadata": {},
   "outputs": [],
   "source": [
    "# Ejemplo de diccionario\n",
    "mi_contacto = {\"nombre\": \"Enmanuel\", \"apellido\": \"Ruffinelli\", \"email\": 'e@ruffinel.li', \"telefono\": 595982440500, \"direccion\": \"Manuel del Castillo\", \"sitioweb\": \"ruffinel.li\"}\n",
    "\n",
    "# Ejemplo de diccionario estilizado para una mejor comprensión de claves y valores\n",
    "{\n",
    "    \"nombre\": \"Enmanuel\",\n",
    "    \"apellido\": \"Ruffinelli\",\n",
    "    \"email\": 'e@ruffinel.li',\n",
    "    \"teléfono\": 595982440500\n",
    "}\n",
    "\n",
    "# Imprimir el diccionario\n",
    "print(mi_contacto)\n",
    "\n",
    "# Acceder a datos del diccionario\n",
    "mi_contacto[\"nombre\"]\n",
    "mi_contacto[\"direccion\"]\n",
    "\n",
    "# Desplegar datos del diccionario\n",
    "mi_contacto.keys()\n",
    "mi_contacto.values()\n",
    "mi_contacto.items()\n",
    "\n",
    "# Añadir datos al diccionario\n",
    "mi_contacto[\"barrio\"] = \"Los Laureles\"\n",
    "print(mi_contacto)\n",
    "\n",
    "# Actualizar datos del diccionario\n",
    "mi_contacto[\"barrio\"] = \"Recoleta\"\n",
    "print(mi_contacto)\n",
    "\n",
    "# Eliminar datos del diccionario: ultimo par\n",
    "mi_contacto.popitem()\n",
    "print(mi_contacto)\n",
    "\n",
    "# Eliminar datos del diccionario: por clave\n",
    "del mi_contacto[\"apellido\"]\n",
    "print(mi_contacto)"
   ]
  },
  {
   "cell_type": "markdown",
   "metadata": {},
   "source": [
    "---"
   ]
  },
  {
   "cell_type": "markdown",
   "metadata": {},
   "source": [
    "## Challenge 🤺\n",
    "\n",
    "Escribir un programa que cree un diccionario vacío y lo vaya llenado con información sobre una persona (por ejemplo nombre, edad, sexo, teléfono, correo electrónico, etc.) que se le pida al usuario. Cada vez que se añada un nuevo dato debe imprimirse el contenido del diccionario."
   ]
  },
  {
   "cell_type": "code",
   "execution_count": 3,
   "metadata": {},
   "outputs": [
    {
     "name": "stdout",
     "output_type": "stream",
     "text": [
      "{'nombre': 'Enmanuel'}\n",
      "Los datos se guardaron correctamente :)\n",
      "{'nombre': 'Enmanuel'}\n"
     ]
    }
   ],
   "source": [
    "# Solucion de Dani\n",
    "\n",
    "directorio = {}\n",
    "\n",
    "def agregar():\n",
    "    directorio[tipo_dato] = agregar_datos\n",
    "    print(directorio)\n",
    "\n",
    "while True:\n",
    "    tipo_dato = input(\"Que dato quisiera agregar?\")\n",
    "    agregar_datos = input(\"Ingrese su \" + tipo_dato + \":\")\n",
    "    \n",
    "    if input(\"Desea agregar un dato? :)\") == \"si\":\n",
    "        agregar()\n",
    "    else:\n",
    "        break\n",
    "\n",
    "print(\"Los datos se guardaron correctamente :)\")\n",
    "print(directorio)"
   ]
  },
  {
   "cell_type": "code",
   "execution_count": 4,
   "metadata": {},
   "outputs": [
    {
     "name": "stdout",
     "output_type": "stream",
     "text": [
      "{'nombre': 'enma'}\n",
      "{'nombre': 'enma', 'apellido': 'ruffi'}\n"
     ]
    }
   ],
   "source": [
    "# Solucion de Leandro\n",
    "\n",
    "libretita = {}\n",
    "\n",
    "for i in range(2):\n",
    "    dato = input(\"Que datos quieres guardar?\")\n",
    "    valor = input(\"Cual es el valor\")\n",
    "    libretita[dato] = valor\n",
    "    print(libretita)"
   ]
  },
  {
   "cell_type": "code",
   "execution_count": 2,
   "metadata": {},
   "outputs": [
    {
     "name": "stdout",
     "output_type": "stream",
     "text": [
      "{'nombre': 'Enmanuel'}\n"
     ]
    }
   ],
   "source": [
    "datos_de_la_persona = {}\n",
    "seguir_preguntando_datos = True\n",
    "\n",
    "while seguir_preguntando_datos:\n",
    "    clave = input('¿Qué dato quieres introducir? ')\n",
    "    valor = input(clave + ': ')\n",
    "    datos_de_la_persona[clave] = valor\n",
    "    print(datos_de_la_persona)\n",
    "    seguir_preguntando_datos = input('¿Quieres añadir más información (S/N)? ') == \"S\""
   ]
  },
  {
   "cell_type": "code",
   "execution_count": 10,
   "metadata": {},
   "outputs": [
    {
     "name": "stdout",
     "output_type": "stream",
     "text": [
      "{'nombre': 'enma'}\n",
      " \n",
      "{'nombre': 'enma', 'apellido': 'ruffi'}\n",
      " \n",
      "{'nombre': 'enma', 'apellido': 'ruffi', 'asd': 'qwe'}\n",
      " \n",
      "{'nombre': 'enma', 'apellido': 'ruffi', 'asd': 'qwe'}\n",
      " \n",
      "{'nombre': 'enma', 'apellido': 'ruffi', 'asd': 'qwe'}\n",
      " \n"
     ]
    }
   ],
   "source": [
    "# Solucion de Caleb\n",
    "\n",
    "datos = 0\n",
    "DatosDeCliente = {}\n",
    "while datos != 5:\n",
    "    dato = input(\"Introduzca su valor: \")\n",
    "    valor = input(\"Introduzca su llave: \")\n",
    "    DatosDeCliente[dato] = valor\n",
    "    print(DatosDeCliente)\n",
    "    print(\" \")\n",
    "    datos += 1"
   ]
  },
  {
   "cell_type": "code",
   "execution_count": null,
   "metadata": {},
   "outputs": [],
   "source": [
    "# Solucion de Jony\n",
    "\n",
    "datos_requeridos = [\"Nombre\", \"Apellido\", \"Mail\", \"Telefono\"]\n",
    "datos_conseguidos = {}\n",
    "\n",
    "for i in range(len(datos_requeridos)):\n",
    "    print(\"Favor ingresar\", datos_requeridos[i])\n",
    "    dato_ingresado = input(\"Ingrese datos\")\n",
    "    datos_conseguidos[datos_requeridos[i]] = dato_ingresado\n",
    "\n",
    "print(datos_conseguidos)"
   ]
  },
  {
   "cell_type": "code",
   "execution_count": 12,
   "metadata": {},
   "outputs": [
    {
     "name": "stdout",
     "output_type": "stream",
     "text": [
      "{'nombre': 'enma'}\n",
      "{'nombre': 'enma', 'apellido': 'ruffi'}\n"
     ]
    }
   ],
   "source": [
    "# Solucion de Clau\n",
    "\n",
    "mi_contacto = {}\n",
    "flag = \"\"\n",
    "\n",
    "while flag != \"salir\":\n",
    "    valor = input(\"Introduzca el tipo de dato\")\n",
    "    mi_contacto[valor] = input(\"Introduce tu dato\")\n",
    "    print(mi_contacto)\n",
    "    flag = input(\"Si desea salir, escriba salir\")"
   ]
  },
  {
   "cell_type": "markdown",
   "metadata": {},
   "source": [
    "---"
   ]
  },
  {
   "cell_type": "markdown",
   "metadata": {},
   "source": [
    "## Challenge 🤺\n",
    "\n",
    "Crear una tarjeta personal. El usuario (mediante `input`) puede elegir:\n",
    "\n",
    "1. Crear datos nuevos\n",
    "2. Modificar datos\n",
    "3. Eliminar datos"
   ]
  },
  {
   "cell_type": "code",
   "execution_count": 8,
   "metadata": {},
   "outputs": [
    {
     "name": "stdout",
     "output_type": "stream",
     "text": [
      "INGRESE UN NUMERO DEL 1 AL 4 POR FAVOR. O EL NUMERO 5 PARA SALIR!!!\n",
      "INGRESE UN NUMERO DEL 1 AL 4 POR FAVOR. O EL NUMERO 5 PARA SALIR!!!\n",
      "INGRESE UN NUMERO DEL 1 AL 4 POR FAVOR. O EL NUMERO 5 PARA SALIR!!!\n",
      "INGRESE UN NUMERO DEL 1 AL 4 POR FAVOR. O EL NUMERO 5 PARA SALIR!!!\n",
      "INGRESE UN NUMERO DEL 1 AL 4 POR FAVOR. O EL NUMERO 5 PARA SALIR!!!\n"
     ]
    },
    {
     "ename": "KeyboardInterrupt",
     "evalue": "Interrupted by user",
     "output_type": "error",
     "traceback": [
      "\u001b[0;31m---------------------------------------------------------------------------\u001b[0m",
      "\u001b[0;31mKeyboardInterrupt\u001b[0m                         Traceback (most recent call last)",
      "\u001b[1;32m/Users/atari/Documents/penguin/4 bootcamp/notes/diccionarios.ipynb Cell 13'\u001b[0m in \u001b[0;36m<module>\u001b[0;34m\u001b[0m\n\u001b[1;32m      <a href='vscode-notebook-cell:/Users/atari/Documents/penguin/4%20bootcamp/notes/diccionarios.ipynb#ch0000016?line=2'>3</a>\u001b[0m mi_tarjeta_personal \u001b[39m=\u001b[39m {}\n\u001b[1;32m      <a href='vscode-notebook-cell:/Users/atari/Documents/penguin/4%20bootcamp/notes/diccionarios.ipynb#ch0000016?line=4'>5</a>\u001b[0m \u001b[39mwhile\u001b[39;00m \u001b[39mTrue\u001b[39;00m:\n\u001b[0;32m----> <a href='vscode-notebook-cell:/Users/atari/Documents/penguin/4%20bootcamp/notes/diccionarios.ipynb#ch0000016?line=5'>6</a>\u001b[0m     dato \u001b[39m=\u001b[39m \u001b[39minput\u001b[39;49m(\u001b[39m\"\u001b[39;49m\u001b[39mMarque el numero del dato que desea ingresar: (1) Nombre, (2) Apellido, (3) Profesion, (4) Direccion, (5) Salir.\u001b[39;49m\u001b[39m\"\u001b[39;49m)\n\u001b[1;32m      <a href='vscode-notebook-cell:/Users/atari/Documents/penguin/4%20bootcamp/notes/diccionarios.ipynb#ch0000016?line=7'>8</a>\u001b[0m     \u001b[39mif\u001b[39;00m dato \u001b[39m==\u001b[39m \u001b[39m\"\u001b[39m\u001b[39m1\u001b[39m\u001b[39m\"\u001b[39m:\n\u001b[1;32m      <a href='vscode-notebook-cell:/Users/atari/Documents/penguin/4%20bootcamp/notes/diccionarios.ipynb#ch0000016?line=8'>9</a>\u001b[0m         nombre \u001b[39m=\u001b[39m \u001b[39minput\u001b[39m(\u001b[39m\"\u001b[39m\u001b[39mCual es tu nombre?\u001b[39m\u001b[39m\"\u001b[39m)\n",
      "File \u001b[0;32m/usr/local/lib/python3.9/site-packages/ipykernel/kernelbase.py:1044\u001b[0m, in \u001b[0;36mKernel.raw_input\u001b[0;34m(self, prompt)\u001b[0m\n\u001b[1;32m   <a href='file:///usr/local/lib/python3.9/site-packages/ipykernel/kernelbase.py?line=1039'>1040</a>\u001b[0m \u001b[39mif\u001b[39;00m \u001b[39mnot\u001b[39;00m \u001b[39mself\u001b[39m\u001b[39m.\u001b[39m_allow_stdin:\n\u001b[1;32m   <a href='file:///usr/local/lib/python3.9/site-packages/ipykernel/kernelbase.py?line=1040'>1041</a>\u001b[0m     \u001b[39mraise\u001b[39;00m StdinNotImplementedError(\n\u001b[1;32m   <a href='file:///usr/local/lib/python3.9/site-packages/ipykernel/kernelbase.py?line=1041'>1042</a>\u001b[0m         \u001b[39m\"\u001b[39m\u001b[39mraw_input was called, but this frontend does not support input requests.\u001b[39m\u001b[39m\"\u001b[39m\n\u001b[1;32m   <a href='file:///usr/local/lib/python3.9/site-packages/ipykernel/kernelbase.py?line=1042'>1043</a>\u001b[0m     )\n\u001b[0;32m-> <a href='file:///usr/local/lib/python3.9/site-packages/ipykernel/kernelbase.py?line=1043'>1044</a>\u001b[0m \u001b[39mreturn\u001b[39;00m \u001b[39mself\u001b[39;49m\u001b[39m.\u001b[39;49m_input_request(\n\u001b[1;32m   <a href='file:///usr/local/lib/python3.9/site-packages/ipykernel/kernelbase.py?line=1044'>1045</a>\u001b[0m     \u001b[39mstr\u001b[39;49m(prompt),\n\u001b[1;32m   <a href='file:///usr/local/lib/python3.9/site-packages/ipykernel/kernelbase.py?line=1045'>1046</a>\u001b[0m     \u001b[39mself\u001b[39;49m\u001b[39m.\u001b[39;49m_parent_ident[\u001b[39m\"\u001b[39;49m\u001b[39mshell\u001b[39;49m\u001b[39m\"\u001b[39;49m],\n\u001b[1;32m   <a href='file:///usr/local/lib/python3.9/site-packages/ipykernel/kernelbase.py?line=1046'>1047</a>\u001b[0m     \u001b[39mself\u001b[39;49m\u001b[39m.\u001b[39;49mget_parent(\u001b[39m\"\u001b[39;49m\u001b[39mshell\u001b[39;49m\u001b[39m\"\u001b[39;49m),\n\u001b[1;32m   <a href='file:///usr/local/lib/python3.9/site-packages/ipykernel/kernelbase.py?line=1047'>1048</a>\u001b[0m     password\u001b[39m=\u001b[39;49m\u001b[39mFalse\u001b[39;49;00m,\n\u001b[1;32m   <a href='file:///usr/local/lib/python3.9/site-packages/ipykernel/kernelbase.py?line=1048'>1049</a>\u001b[0m )\n",
      "File \u001b[0;32m/usr/local/lib/python3.9/site-packages/ipykernel/kernelbase.py:1089\u001b[0m, in \u001b[0;36mKernel._input_request\u001b[0;34m(self, prompt, ident, parent, password)\u001b[0m\n\u001b[1;32m   <a href='file:///usr/local/lib/python3.9/site-packages/ipykernel/kernelbase.py?line=1085'>1086</a>\u001b[0m             \u001b[39mbreak\u001b[39;00m\n\u001b[1;32m   <a href='file:///usr/local/lib/python3.9/site-packages/ipykernel/kernelbase.py?line=1086'>1087</a>\u001b[0m \u001b[39mexcept\u001b[39;00m \u001b[39mKeyboardInterrupt\u001b[39;00m:\n\u001b[1;32m   <a href='file:///usr/local/lib/python3.9/site-packages/ipykernel/kernelbase.py?line=1087'>1088</a>\u001b[0m     \u001b[39m# re-raise KeyboardInterrupt, to truncate traceback\u001b[39;00m\n\u001b[0;32m-> <a href='file:///usr/local/lib/python3.9/site-packages/ipykernel/kernelbase.py?line=1088'>1089</a>\u001b[0m     \u001b[39mraise\u001b[39;00m \u001b[39mKeyboardInterrupt\u001b[39;00m(\u001b[39m\"\u001b[39m\u001b[39mInterrupted by user\u001b[39m\u001b[39m\"\u001b[39m) \u001b[39mfrom\u001b[39;00m \u001b[39mNone\u001b[39m\n\u001b[1;32m   <a href='file:///usr/local/lib/python3.9/site-packages/ipykernel/kernelbase.py?line=1089'>1090</a>\u001b[0m \u001b[39mexcept\u001b[39;00m \u001b[39mException\u001b[39;00m:\n\u001b[1;32m   <a href='file:///usr/local/lib/python3.9/site-packages/ipykernel/kernelbase.py?line=1090'>1091</a>\u001b[0m     \u001b[39mself\u001b[39m\u001b[39m.\u001b[39mlog\u001b[39m.\u001b[39mwarning(\u001b[39m\"\u001b[39m\u001b[39mInvalid Message:\u001b[39m\u001b[39m\"\u001b[39m, exc_info\u001b[39m=\u001b[39m\u001b[39mTrue\u001b[39;00m)\n",
      "\u001b[0;31mKeyboardInterrupt\u001b[0m: Interrupted by user"
     ]
    }
   ],
   "source": [
    "# Solucion de Aharon\n",
    "\n",
    "mi_tarjeta_personal = {}\n",
    "\n",
    "while True:\n",
    "    dato = input(\"Marque el numero del dato que desea ingresar: (1) Nombre, (2) Apellido, (3) Profesion, (4) Direccion, (5) Salir.\")\n",
    "    \n",
    "    if dato == \"1\":\n",
    "        nombre = input(\"Cual es tu nombre?\")\n",
    "        mi_tarjeta_personal[\"Nombre\"] = nombre\n",
    "    if dato == \"2\":\n",
    "        apellido = input(\"Cual es tu apellido?\")\n",
    "        mi_tarjeta_personal[\"Apellido\"] = apellido\n",
    "    if dato == \"3\":\n",
    "        profesion = input(\"Cual es tu profesion?\")\n",
    "        mi_tarjeta_personal[\"Profesion\"] = profesion\n",
    "    if dato == \"4\":\n",
    "        direccion = input(\"Cual es tu direccion?\")\n",
    "        mi_tarjeta_personal[\"Direccion\"] = direccion\n",
    "    if dato == \"5\":\n",
    "        print(mi_tarjeta_personal)\n",
    "        break\n",
    "    else:\n",
    "        print(\"INGRESE UN NUMERO DEL 1 AL 4 POR FAVOR. O EL NUMERO 5 PARA SALIR!!!\")"
   ]
  },
  {
   "cell_type": "code",
   "execution_count": 9,
   "metadata": {},
   "outputs": [
    {
     "name": "stdout",
     "output_type": "stream",
     "text": [
      "Creando Tarjeta Personal: \n",
      "###############################################\n",
      "{'nombre': 'enma'}\n"
     ]
    }
   ],
   "source": [
    "# Solucion de Joselo\n",
    "\n",
    "dic = {}\n",
    "flag = \"\"\n",
    "print (\"Creando Tarjeta Personal: \")\n",
    "while flag != \"salir\":\n",
    "    flag = input (\"Que quieres hacer? Crear, Modificar, Eliminar o Salir para salir\").lower()\n",
    "    if flag == \"crear\":\n",
    "        key = input (\"Ingrese el tipo de dato: \")\n",
    "        dic[key] = input(f\"Ingrese {key}: \")\n",
    "        print (\"###############################################\")\n",
    "        print (dic)\n",
    "    elif flag == \"modificar\":\n",
    "        keys = []\n",
    "        for i in dic.keys():\n",
    "            keys.append (i)\n",
    "        modificar_key = input (f\"Que dato quiere modificar? {keys}\")\n",
    "        dic[modificar_key] = input(\"Ingrese el nuevo dato: \")\n",
    "        print (\"###############################################\")\n",
    "        print (dic)\n",
    "    elif flag == \"eliminar\":\n",
    "        keys = []\n",
    "        for i in dic.keys():\n",
    "            keys.append (i)\n",
    "        eliminar_key = input (f\"Que dato quiere eliminar? {keys}\")\n",
    "        dic.pop (eliminar_key)\n",
    "        print (\"###############################################\")\n",
    "        print (dic)"
   ]
  },
  {
   "cell_type": "code",
   "execution_count": 5,
   "metadata": {},
   "outputs": [
    {
     "name": "stdout",
     "output_type": "stream",
     "text": [
      "{'asd': 'qwe'}\n"
     ]
    },
    {
     "ename": "KeyboardInterrupt",
     "evalue": "Interrupted by user",
     "output_type": "error",
     "traceback": [
      "\u001b[0;31m---------------------------------------------------------------------------\u001b[0m",
      "\u001b[0;31mKeyboardInterrupt\u001b[0m                         Traceback (most recent call last)",
      "\u001b[1;32m/Users/atari/Documents/penguin/4 bootcamp/notes/diccionarios.ipynb Cell 13'\u001b[0m in \u001b[0;36m<module>\u001b[0;34m\u001b[0m\n\u001b[1;32m      <a href='vscode-notebook-cell:/Users/atari/Documents/penguin/4%20bootcamp/notes/diccionarios.ipynb#ch0000010?line=0'>1</a>\u001b[0m tarjeta_personal \u001b[39m=\u001b[39m {}\n\u001b[1;32m      <a href='vscode-notebook-cell:/Users/atari/Documents/penguin/4%20bootcamp/notes/diccionarios.ipynb#ch0000010?line=2'>3</a>\u001b[0m \u001b[39mwhile\u001b[39;00m \u001b[39mTrue\u001b[39;00m:\n\u001b[0;32m----> <a href='vscode-notebook-cell:/Users/atari/Documents/penguin/4%20bootcamp/notes/diccionarios.ipynb#ch0000010?line=3'>4</a>\u001b[0m     menu \u001b[39m=\u001b[39m \u001b[39mint\u001b[39m(\u001b[39minput\u001b[39;49m(\u001b[39m\"\u001b[39;49m\u001b[39mSeleccione una opción: \u001b[39;49m\u001b[39m\"\u001b[39;49m))\n\u001b[1;32m      <a href='vscode-notebook-cell:/Users/atari/Documents/penguin/4%20bootcamp/notes/diccionarios.ipynb#ch0000010?line=4'>5</a>\u001b[0m     \u001b[39mif\u001b[39;00m menu \u001b[39m==\u001b[39m \u001b[39m1\u001b[39m:\n\u001b[1;32m      <a href='vscode-notebook-cell:/Users/atari/Documents/penguin/4%20bootcamp/notes/diccionarios.ipynb#ch0000010?line=5'>6</a>\u001b[0m         clave \u001b[39m=\u001b[39m \u001b[39minput\u001b[39m(\u001b[39m'\u001b[39m\u001b[39m¿Qué dato quieres introducir? \u001b[39m\u001b[39m'\u001b[39m)\n",
      "File \u001b[0;32m/usr/local/lib/python3.9/site-packages/ipykernel/kernelbase.py:1044\u001b[0m, in \u001b[0;36mKernel.raw_input\u001b[0;34m(self, prompt)\u001b[0m\n\u001b[1;32m   <a href='file:///usr/local/lib/python3.9/site-packages/ipykernel/kernelbase.py?line=1039'>1040</a>\u001b[0m \u001b[39mif\u001b[39;00m \u001b[39mnot\u001b[39;00m \u001b[39mself\u001b[39m\u001b[39m.\u001b[39m_allow_stdin:\n\u001b[1;32m   <a href='file:///usr/local/lib/python3.9/site-packages/ipykernel/kernelbase.py?line=1040'>1041</a>\u001b[0m     \u001b[39mraise\u001b[39;00m StdinNotImplementedError(\n\u001b[1;32m   <a href='file:///usr/local/lib/python3.9/site-packages/ipykernel/kernelbase.py?line=1041'>1042</a>\u001b[0m         \u001b[39m\"\u001b[39m\u001b[39mraw_input was called, but this frontend does not support input requests.\u001b[39m\u001b[39m\"\u001b[39m\n\u001b[1;32m   <a href='file:///usr/local/lib/python3.9/site-packages/ipykernel/kernelbase.py?line=1042'>1043</a>\u001b[0m     )\n\u001b[0;32m-> <a href='file:///usr/local/lib/python3.9/site-packages/ipykernel/kernelbase.py?line=1043'>1044</a>\u001b[0m \u001b[39mreturn\u001b[39;00m \u001b[39mself\u001b[39;49m\u001b[39m.\u001b[39;49m_input_request(\n\u001b[1;32m   <a href='file:///usr/local/lib/python3.9/site-packages/ipykernel/kernelbase.py?line=1044'>1045</a>\u001b[0m     \u001b[39mstr\u001b[39;49m(prompt),\n\u001b[1;32m   <a href='file:///usr/local/lib/python3.9/site-packages/ipykernel/kernelbase.py?line=1045'>1046</a>\u001b[0m     \u001b[39mself\u001b[39;49m\u001b[39m.\u001b[39;49m_parent_ident[\u001b[39m\"\u001b[39;49m\u001b[39mshell\u001b[39;49m\u001b[39m\"\u001b[39;49m],\n\u001b[1;32m   <a href='file:///usr/local/lib/python3.9/site-packages/ipykernel/kernelbase.py?line=1046'>1047</a>\u001b[0m     \u001b[39mself\u001b[39;49m\u001b[39m.\u001b[39;49mget_parent(\u001b[39m\"\u001b[39;49m\u001b[39mshell\u001b[39;49m\u001b[39m\"\u001b[39;49m),\n\u001b[1;32m   <a href='file:///usr/local/lib/python3.9/site-packages/ipykernel/kernelbase.py?line=1047'>1048</a>\u001b[0m     password\u001b[39m=\u001b[39;49m\u001b[39mFalse\u001b[39;49;00m,\n\u001b[1;32m   <a href='file:///usr/local/lib/python3.9/site-packages/ipykernel/kernelbase.py?line=1048'>1049</a>\u001b[0m )\n",
      "File \u001b[0;32m/usr/local/lib/python3.9/site-packages/ipykernel/kernelbase.py:1089\u001b[0m, in \u001b[0;36mKernel._input_request\u001b[0;34m(self, prompt, ident, parent, password)\u001b[0m\n\u001b[1;32m   <a href='file:///usr/local/lib/python3.9/site-packages/ipykernel/kernelbase.py?line=1085'>1086</a>\u001b[0m             \u001b[39mbreak\u001b[39;00m\n\u001b[1;32m   <a href='file:///usr/local/lib/python3.9/site-packages/ipykernel/kernelbase.py?line=1086'>1087</a>\u001b[0m \u001b[39mexcept\u001b[39;00m \u001b[39mKeyboardInterrupt\u001b[39;00m:\n\u001b[1;32m   <a href='file:///usr/local/lib/python3.9/site-packages/ipykernel/kernelbase.py?line=1087'>1088</a>\u001b[0m     \u001b[39m# re-raise KeyboardInterrupt, to truncate traceback\u001b[39;00m\n\u001b[0;32m-> <a href='file:///usr/local/lib/python3.9/site-packages/ipykernel/kernelbase.py?line=1088'>1089</a>\u001b[0m     \u001b[39mraise\u001b[39;00m \u001b[39mKeyboardInterrupt\u001b[39;00m(\u001b[39m\"\u001b[39m\u001b[39mInterrupted by user\u001b[39m\u001b[39m\"\u001b[39m) \u001b[39mfrom\u001b[39;00m \u001b[39mNone\u001b[39m\n\u001b[1;32m   <a href='file:///usr/local/lib/python3.9/site-packages/ipykernel/kernelbase.py?line=1089'>1090</a>\u001b[0m \u001b[39mexcept\u001b[39;00m \u001b[39mException\u001b[39;00m:\n\u001b[1;32m   <a href='file:///usr/local/lib/python3.9/site-packages/ipykernel/kernelbase.py?line=1090'>1091</a>\u001b[0m     \u001b[39mself\u001b[39m\u001b[39m.\u001b[39mlog\u001b[39m.\u001b[39mwarning(\u001b[39m\"\u001b[39m\u001b[39mInvalid Message:\u001b[39m\u001b[39m\"\u001b[39m, exc_info\u001b[39m=\u001b[39m\u001b[39mTrue\u001b[39;00m)\n",
      "\u001b[0;31mKeyboardInterrupt\u001b[0m: Interrupted by user"
     ]
    }
   ],
   "source": [
    "tarjeta_personal = {}\n",
    "\n",
    "while True:\n",
    "    menu = int(input(\"Seleccione una opción: \"))\n",
    "    if menu == 1:\n",
    "        clave = input('¿Qué dato quieres introducir? ')\n",
    "        valor = input(clave + ': ')\n",
    "        tarjeta_personal[clave] = valor\n",
    "        print(tarjeta_personal)\n",
    "    elif menu == 2:\n",
    "        clave = input('¿Qué dato quieres cambiar? ')\n",
    "        valor = input(clave + ': ')\n",
    "        tarjeta_personal[clave] = valor\n",
    "        print(tarjeta_personal)\n",
    "    elif menu == 3:\n",
    "        clave = input('¿Qué dato quieres eliminar? ')\n",
    "        del tarjeta_personal[clave]\n",
    "        print(tarjeta_personal)"
   ]
  },
  {
   "cell_type": "markdown",
   "metadata": {},
   "source": [
    "---"
   ]
  },
  {
   "cell_type": "markdown",
   "metadata": {},
   "source": [
    "## Ejercicio\n",
    "\n",
    "Crear una agenda. El usuario puede elegir:\n",
    "\n",
    "1. Mostrar los contactos\n",
    "2. Crear contacto\n",
    "3. Modificar datos del contacto"
   ]
  },
  {
   "cell_type": "code",
   "execution_count": 6,
   "metadata": {},
   "outputs": [
    {
     "name": "stdout",
     "output_type": "stream",
     "text": [
      "[{'Nombre': 'Enmanuel', 'Apellido': 'Ruffinelli', 'Telefono': '12345', 'Direccion': 'Asd 123'}]\n",
      "Numero 1 Enmanuel\n"
     ]
    },
    {
     "ename": "KeyboardInterrupt",
     "evalue": "Interrupted by user",
     "output_type": "error",
     "traceback": [
      "\u001b[0;31m---------------------------------------------------------------------------\u001b[0m",
      "\u001b[0;31mKeyboardInterrupt\u001b[0m                         Traceback (most recent call last)",
      "\u001b[1;32m/Users/atari/Documents/penguin/4 bootcamp/notes/diccionarios.ipynb Cell 16'\u001b[0m in \u001b[0;36m<module>\u001b[0;34m\u001b[0m\n\u001b[1;32m     <a href='vscode-notebook-cell:/Users/atari/Documents/penguin/4%20bootcamp/notes/diccionarios.ipynb#ch0000013?line=45'>46</a>\u001b[0m \u001b[39mfor\u001b[39;00m index, persona \u001b[39min\u001b[39;00m \u001b[39menumerate\u001b[39m(agenda):\n\u001b[1;32m     <a href='vscode-notebook-cell:/Users/atari/Documents/penguin/4%20bootcamp/notes/diccionarios.ipynb#ch0000013?line=46'>47</a>\u001b[0m     \u001b[39mprint\u001b[39m(\u001b[39m\"\u001b[39m\u001b[39mNumero \u001b[39m\u001b[39m\"\u001b[39m \u001b[39m+\u001b[39m \u001b[39mstr\u001b[39m(index \u001b[39m+\u001b[39m \u001b[39m1\u001b[39m), persona[\u001b[39m\"\u001b[39m\u001b[39mNombre\u001b[39m\u001b[39m\"\u001b[39m])\n\u001b[0;32m---> <a href='vscode-notebook-cell:/Users/atari/Documents/penguin/4%20bootcamp/notes/diccionarios.ipynb#ch0000013?line=47'>48</a>\u001b[0m nro_que_quiere_editar \u001b[39m=\u001b[39m \u001b[39mint\u001b[39m(\u001b[39minput\u001b[39;49m(\u001b[39m\"\u001b[39;49m\u001b[39mNro que quiere editar\u001b[39;49m\u001b[39m\"\u001b[39;49m)) \u001b[39m-\u001b[39m \u001b[39m1\u001b[39m\n\u001b[1;32m     <a href='vscode-notebook-cell:/Users/atari/Documents/penguin/4%20bootcamp/notes/diccionarios.ipynb#ch0000013?line=48'>49</a>\u001b[0m \u001b[39m# Pedir datos del usuario\u001b[39;00m\n\u001b[1;32m     <a href='vscode-notebook-cell:/Users/atari/Documents/penguin/4%20bootcamp/notes/diccionarios.ipynb#ch0000013?line=49'>50</a>\u001b[0m dato_a_editar \u001b[39m=\u001b[39m \u001b[39minput\u001b[39m(\u001b[39m\"\u001b[39m\u001b[39mDato a editar\u001b[39m\u001b[39m\"\u001b[39m)\n",
      "File \u001b[0;32m/usr/local/lib/python3.9/site-packages/ipykernel/kernelbase.py:1044\u001b[0m, in \u001b[0;36mKernel.raw_input\u001b[0;34m(self, prompt)\u001b[0m\n\u001b[1;32m   <a href='file:///usr/local/lib/python3.9/site-packages/ipykernel/kernelbase.py?line=1039'>1040</a>\u001b[0m \u001b[39mif\u001b[39;00m \u001b[39mnot\u001b[39;00m \u001b[39mself\u001b[39m\u001b[39m.\u001b[39m_allow_stdin:\n\u001b[1;32m   <a href='file:///usr/local/lib/python3.9/site-packages/ipykernel/kernelbase.py?line=1040'>1041</a>\u001b[0m     \u001b[39mraise\u001b[39;00m StdinNotImplementedError(\n\u001b[1;32m   <a href='file:///usr/local/lib/python3.9/site-packages/ipykernel/kernelbase.py?line=1041'>1042</a>\u001b[0m         \u001b[39m\"\u001b[39m\u001b[39mraw_input was called, but this frontend does not support input requests.\u001b[39m\u001b[39m\"\u001b[39m\n\u001b[1;32m   <a href='file:///usr/local/lib/python3.9/site-packages/ipykernel/kernelbase.py?line=1042'>1043</a>\u001b[0m     )\n\u001b[0;32m-> <a href='file:///usr/local/lib/python3.9/site-packages/ipykernel/kernelbase.py?line=1043'>1044</a>\u001b[0m \u001b[39mreturn\u001b[39;00m \u001b[39mself\u001b[39;49m\u001b[39m.\u001b[39;49m_input_request(\n\u001b[1;32m   <a href='file:///usr/local/lib/python3.9/site-packages/ipykernel/kernelbase.py?line=1044'>1045</a>\u001b[0m     \u001b[39mstr\u001b[39;49m(prompt),\n\u001b[1;32m   <a href='file:///usr/local/lib/python3.9/site-packages/ipykernel/kernelbase.py?line=1045'>1046</a>\u001b[0m     \u001b[39mself\u001b[39;49m\u001b[39m.\u001b[39;49m_parent_ident[\u001b[39m\"\u001b[39;49m\u001b[39mshell\u001b[39;49m\u001b[39m\"\u001b[39;49m],\n\u001b[1;32m   <a href='file:///usr/local/lib/python3.9/site-packages/ipykernel/kernelbase.py?line=1046'>1047</a>\u001b[0m     \u001b[39mself\u001b[39;49m\u001b[39m.\u001b[39;49mget_parent(\u001b[39m\"\u001b[39;49m\u001b[39mshell\u001b[39;49m\u001b[39m\"\u001b[39;49m),\n\u001b[1;32m   <a href='file:///usr/local/lib/python3.9/site-packages/ipykernel/kernelbase.py?line=1047'>1048</a>\u001b[0m     password\u001b[39m=\u001b[39;49m\u001b[39mFalse\u001b[39;49;00m,\n\u001b[1;32m   <a href='file:///usr/local/lib/python3.9/site-packages/ipykernel/kernelbase.py?line=1048'>1049</a>\u001b[0m )\n",
      "File \u001b[0;32m/usr/local/lib/python3.9/site-packages/ipykernel/kernelbase.py:1089\u001b[0m, in \u001b[0;36mKernel._input_request\u001b[0;34m(self, prompt, ident, parent, password)\u001b[0m\n\u001b[1;32m   <a href='file:///usr/local/lib/python3.9/site-packages/ipykernel/kernelbase.py?line=1085'>1086</a>\u001b[0m             \u001b[39mbreak\u001b[39;00m\n\u001b[1;32m   <a href='file:///usr/local/lib/python3.9/site-packages/ipykernel/kernelbase.py?line=1086'>1087</a>\u001b[0m \u001b[39mexcept\u001b[39;00m \u001b[39mKeyboardInterrupt\u001b[39;00m:\n\u001b[1;32m   <a href='file:///usr/local/lib/python3.9/site-packages/ipykernel/kernelbase.py?line=1087'>1088</a>\u001b[0m     \u001b[39m# re-raise KeyboardInterrupt, to truncate traceback\u001b[39;00m\n\u001b[0;32m-> <a href='file:///usr/local/lib/python3.9/site-packages/ipykernel/kernelbase.py?line=1088'>1089</a>\u001b[0m     \u001b[39mraise\u001b[39;00m \u001b[39mKeyboardInterrupt\u001b[39;00m(\u001b[39m\"\u001b[39m\u001b[39mInterrupted by user\u001b[39m\u001b[39m\"\u001b[39m) \u001b[39mfrom\u001b[39;00m \u001b[39mNone\u001b[39m\n\u001b[1;32m   <a href='file:///usr/local/lib/python3.9/site-packages/ipykernel/kernelbase.py?line=1089'>1090</a>\u001b[0m \u001b[39mexcept\u001b[39;00m \u001b[39mException\u001b[39;00m:\n\u001b[1;32m   <a href='file:///usr/local/lib/python3.9/site-packages/ipykernel/kernelbase.py?line=1090'>1091</a>\u001b[0m     \u001b[39mself\u001b[39m\u001b[39m.\u001b[39mlog\u001b[39m.\u001b[39mwarning(\u001b[39m\"\u001b[39m\u001b[39mInvalid Message:\u001b[39m\u001b[39m\"\u001b[39m, exc_info\u001b[39m=\u001b[39m\u001b[39mTrue\u001b[39;00m)\n",
      "\u001b[0;31mKeyboardInterrupt\u001b[0m: Interrupted by user"
     ]
    }
   ],
   "source": [
    "agenda = []\n",
    "\n",
    "\n",
    "def crear_contacto(nombre, apellido, telefono, direccion):\n",
    "    # Crear diccionario\n",
    "    contacto = {}\n",
    "    # Cargar datos\n",
    "    contacto[\"Nombre\"] = nombre\n",
    "    contacto[\"Apellido\"] = apellido\n",
    "    contacto[\"Telefono\"] = telefono\n",
    "    contacto[\"Direccion\"] = direccion\n",
    "    # Cargar a agenda\n",
    "    agenda.append(contacto)\n",
    "\n",
    "\n",
    "def mostrar_contacto(agenda):\n",
    "    for contacto in agenda:\n",
    "        print(\"Nombre:\", contacto[\"Nombre\"])\n",
    "        print(\"Apellido:\", contacto[\"Apellido\"])\n",
    "        print(\"Telefono:\", contacto[\"Telefono\"])\n",
    "        print(\"Direccion:\", contacto[\"Direccion\"])\n",
    "\n",
    "\n",
    "# Preguntar por opcion\n",
    "opcion = int(input(\"Seleccione una opcion: \"))\n",
    "\n",
    "while True:\n",
    "    if opcion == 1:\n",
    "        mostrar_contacto(agenda)\n",
    "\n",
    "    elif opcion == 2:\n",
    "        # Carga de datos\n",
    "        nombre_del_contacto = input(\"Ingrese nombre\")\n",
    "        apellido_del_contacto = input(\"Ingrese apellido\")\n",
    "        telefono_del_contacto = input(\"Ingrese telefono\")\n",
    "        direccion_del_contacto = input(\"Ingrese direccion\")\n",
    "        # Llamar a la funcion\n",
    "        crear_contacto(\n",
    "            nombre_del_contacto,\n",
    "            apellido_del_contacto,\n",
    "            telefono_del_contacto,\n",
    "            direccion_del_contacto,\n",
    "        )\n",
    "        print(agenda)\n",
    "    elif opcion == 3:\n",
    "        for index, persona in enumerate(agenda):\n",
    "            print(\"Numero \" + str(index + 1), persona[\"Nombre\"])\n",
    "        nro_que_quiere_editar = int(input(\"Nro que quiere editar\")) - 1\n",
    "        # Pedir datos del usuario\n",
    "        dato_a_editar = input(\"Dato a editar\")\n",
    "        nuevo_dato = input(\"Ingrese el nuevo dato\")\n",
    "        # Cargar datos\n",
    "        agenda[nro_que_quiere_editar][dato_a_editar] = nuevo_dato\n",
    "    opcion = int(input(\"Seleccione una opcion: \"))\n"
   ]
  }
 ],
 "metadata": {
  "interpreter": {
   "hash": "aee8b7b246df8f9039afb4144a1f6fd8d2ca17a180786b69acc140d282b71a49"
  },
  "kernelspec": {
   "display_name": "Python 3.9.10 64-bit",
   "language": "python",
   "name": "python3"
  },
  "language_info": {
   "codemirror_mode": {
    "name": "ipython",
    "version": 3
   },
   "file_extension": ".py",
   "mimetype": "text/x-python",
   "name": "python",
   "nbconvert_exporter": "python",
   "pygments_lexer": "ipython3",
   "version": "3.9.12"
  },
  "orig_nbformat": 4
 },
 "nbformat": 4,
 "nbformat_minor": 2
}
