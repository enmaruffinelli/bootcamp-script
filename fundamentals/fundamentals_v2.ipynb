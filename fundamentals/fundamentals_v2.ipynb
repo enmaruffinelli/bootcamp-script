{
 "cells": [
  {
   "cell_type": "markdown",
   "metadata": {},
   "source": [
    "# "
   ]
  },
  {
   "cell_type": "markdown",
   "metadata": {},
   "source": [
    "# Introducción\n",
    "\n",
    "## ¿Qué es Python?\n",
    "\n",
    "Python es un lenguaje simple y minimalista. Leer un buen programa en Python se siente casi como leer inglés, aunque un inglés muy estricto. Esta naturaleza de pseudo-código de Python es una de sus más grandes fortalezas: te permite concentrarte en la solución al problema antes que en el lenguaje en sí.\n",
    "\n",
    "## Ventajas de Python\n",
    "\n",
    "- Es de código abierto.\n",
    "- Es fácil de aprender gracias a que su sintaxis es bastante legible para los humanos.\n",
    "- Es un lenguaje maduro (un poco más de 30 años).\n",
    "- Esta mantenido por una gran comunidad de desarrolladores y hay multitud de recursos para su aprendizaje.\n",
    "\n",
    "## ¿Quién creó Python?\n",
    "\n",
    "Fue creado por Guido van Rossum en 1990, aunque actualmente es desarrollado y mantenido por la Python Software Foundation."
   ]
  },
  {
   "cell_type": "markdown",
   "metadata": {},
   "source": [
    "---"
   ]
  },
  {
   "cell_type": "markdown",
   "metadata": {},
   "source": [
    "## Primer encuentro con Python: Hello World!"
   ]
  },
  {
   "cell_type": "code",
   "execution_count": 1,
   "metadata": {},
   "outputs": [
    {
     "name": "stdout",
     "output_type": "stream",
     "text": [
      "Hola mundo\n"
     ]
    }
   ],
   "source": [
    "print(\"Hola mundo\")"
   ]
  },
  {
   "cell_type": "markdown",
   "metadata": {},
   "source": [
    "---"
   ]
  },
  {
   "cell_type": "markdown",
   "metadata": {},
   "source": [
    "## Variables\n",
    "\n",
    "¿Qué es una variable? Una variable, para la computadora, es un espacio reservado en memoria para guardar valores. Para pensarlo más tangiblemente, lo podríamos pensar como una caja vacía en donde guardamos información. Las variables tienen nombres, y los nombres se llaman “identificadores”. Entonces podríamos decir que las cajas tienen unas etiquetas que las identifican por nombres, y estos nombres son únicos. Como por ejemplo, `numero1`.\n",
    "\n",
    "¿Cómo hacemos para guardar un valor dentro de una variable? Primero escribimos el identificador, que sería el nombre de la variable. Luego, lo asignamos con el símbolo `=` a la derecha, seguido por el valor a ser asignado."
   ]
  },
  {
   "cell_type": "code",
   "execution_count": 2,
   "metadata": {},
   "outputs": [],
   "source": [
    "# Observación: el símbolo = no significa “igualdad” aquí, sino “asignación”.\n",
    "# Recuerden: estamos asignando un valor a una variable, no la estamos comparando.\n",
    "\n",
    "numero1 = 10"
   ]
  },
  {
   "cell_type": "markdown",
   "metadata": {},
   "source": [
    "¿Cómo leemos esto? Dentro de la variable `numero1`, estamos colocando el valor 10. Así ahora dentro de la caja, tenemos el número 10.\n",
    "\n",
    "¿Cómo hacemos para ver el contenido de la variable? Con `print()`."
   ]
  },
  {
   "cell_type": "code",
   "execution_count": 3,
   "metadata": {},
   "outputs": [
    {
     "name": "stdout",
     "output_type": "stream",
     "text": [
      "10\n"
     ]
    }
   ],
   "source": [
    "# Imprimimos el valor de la variable numero1 en la pantalla.\n",
    "\n",
    "print(numero1)"
   ]
  },
  {
   "cell_type": "markdown",
   "metadata": {},
   "source": [
    "### Ejemplo con \"hola mundo\"\n",
    "\n",
    "Asignamos el texto de \"hola mundo\" a la variable `saludo`."
   ]
  },
  {
   "cell_type": "code",
   "execution_count": 4,
   "metadata": {},
   "outputs": [
    {
     "name": "stdout",
     "output_type": "stream",
     "text": [
      "Hola mundo\n"
     ]
    }
   ],
   "source": [
    "saludo = \"Hola mundo\"\n",
    "\n",
    "print(saludo)"
   ]
  },
  {
   "cell_type": "markdown",
   "metadata": {},
   "source": [
    "---"
   ]
  },
  {
   "cell_type": "markdown",
   "metadata": {},
   "source": [
    "## Tipos de datos"
   ]
  },
  {
   "cell_type": "code",
   "execution_count": 5,
   "metadata": {},
   "outputs": [
    {
     "name": "stdout",
     "output_type": "stream",
     "text": [
      "maitei\n",
      "10\n",
      "3.14\n",
      "24\n",
      "0\n",
      "36\n",
      "5.5\n",
      "9.0\n"
     ]
    }
   ],
   "source": [
    "saludo = \"maitei\" # Texto -> strings\n",
    "\n",
    "cantidad = 10 # Número entero -> int\n",
    "\n",
    "pi = 3.14 # Número decimal -> float(ing) numbers\n",
    "\n",
    "print(saludo)\n",
    "print(cantidad)\n",
    "print(pi)\n",
    "\n",
    "# Operaciones aritméticas\n",
    "\n",
    "# Suma\n",
    "print(7 + 8 + 9)\n",
    "\n",
    "# Resta\n",
    "print(10 - 10)\n",
    "\n",
    "# Multiplicacion\n",
    "print(12 * 3)\n",
    "\n",
    "# División\n",
    "print(11 / 2)\n",
    "\n",
    "# Python obedece a la regla matemática de la precedencia de operadores\n",
    "print(2 * 2 + 12 / 2 - 1)"
   ]
  },
  {
   "cell_type": "markdown",
   "metadata": {},
   "source": [
    "---"
   ]
  },
  {
   "cell_type": "markdown",
   "metadata": {},
   "source": [
    "### Ejercicio\n",
    "\n",
    "1. Suma: asignar dos números en dos variables diferentes `cantidad_de_manzanas` y `cantidad_de_naranjas`. Luego sumar ambas variables en `cantidad_de_frutas`. Imprimir la última variable.\n",
    "\n",
    "2. Resta: asignar un valor numérico a la variable `frutas_comidas`. Luego, asignar la resta entre `cantidad_de_frutas` y `frutas_comidas` a la variable `frutas_restantes`. Imprimir la última variable."
   ]
  },
  {
   "cell_type": "code",
   "execution_count": 6,
   "metadata": {},
   "outputs": [
    {
     "name": "stdout",
     "output_type": "stream",
     "text": [
      "15\n",
      "8\n"
     ]
    }
   ],
   "source": [
    "# Suma (ejercicio)\n",
    "\n",
    "cantidad_de_manzanas = 5\n",
    "cantidad_de_naranjas = 10\n",
    "cantidad_de_frutas = cantidad_de_manzanas + cantidad_de_naranjas\n",
    "\n",
    "print(cantidad_de_frutas)\n",
    "\n",
    "# Resta (ejercicio)\n",
    "\n",
    "frutas_comidas = 7\n",
    "frutas_restantes = cantidad_de_frutas - frutas_comidas\n",
    "\n",
    "print(frutas_restantes)"
   ]
  },
  {
   "cell_type": "markdown",
   "metadata": {},
   "source": [
    "---"
   ]
  },
  {
   "cell_type": "markdown",
   "metadata": {},
   "source": [
    "### Jugando con texto\n",
    "\n",
    "Las cadenas de caracteres, o texto, son utilizadas al asignarlas a una variable con comillas simples o dobles, indistintamente. Lo importante es que usemos la misma para abrir y cerrar el texto que estamos escribiendo."
   ]
  },
  {
   "cell_type": "code",
   "execution_count": 7,
   "metadata": {},
   "outputs": [
    {
     "name": "stdout",
     "output_type": "stream",
     "text": [
      "Enmanuel\n",
      "Ruffinelli\n"
     ]
    }
   ],
   "source": [
    "nombre = 'Enmanuel'\n",
    "apellido = \"Ruffinelli\"\n",
    "\n",
    "print(nombre)\n",
    "print(apellido)"
   ]
  },
  {
   "cell_type": "markdown",
   "metadata": {},
   "source": [
    "<u>Pregunta</u>: ¿Podemos *sumar* textos? Sí. Y a esto lo llamamos “concatenación”. Unir dos textos sería concatenarlos."
   ]
  },
  {
   "cell_type": "code",
   "execution_count": 8,
   "metadata": {},
   "outputs": [
    {
     "name": "stdout",
     "output_type": "stream",
     "text": [
      "EnmanuelRuffinelli\n",
      "Enmanuel Ruffinelli\n"
     ]
    }
   ],
   "source": [
    "# Concatenación\n",
    "nombre = 'Enmanuel'\n",
    "apellido = 'Ruffinelli'\n",
    "\n",
    "print(nombre + apellido)\n",
    "\n",
    "# También podríamos obtener un resultado más estético. ¿Cómo lo hacemos?\n",
    "print(nombre + \" \" + apellido)"
   ]
  },
  {
   "cell_type": "markdown",
   "metadata": {},
   "source": [
    "### Ejercicio\n",
    "\n",
    "1. Asignar el nombre y el apellido de tu compañera/o a las variables `nombre` y `apellido`. Luego, imprimir la siguiente frase, utilizando las variables: \"Hola. Mi nombre es Enmanuel Ruffinelli. Mucho gusto.\""
   ]
  },
  {
   "cell_type": "code",
   "execution_count": 9,
   "metadata": {},
   "outputs": [
    {
     "name": "stdout",
     "output_type": "stream",
     "text": [
      "Hola. Mi nombre es Enmanuel Ruffinelli. Mucho gusto.\n"
     ]
    }
   ],
   "source": [
    "# Podemos sumar textos + variables del mismo tipo\n",
    "print(\"Hola. Mi nombre es \" + nombre + \" \" + apellido + \". Mucho gusto.\")"
   ]
  },
  {
   "cell_type": "markdown",
   "metadata": {},
   "source": [
    "---"
   ]
  },
  {
   "cell_type": "markdown",
   "metadata": {},
   "source": [
    "### Obteniendo datos del usuario\n",
    "\n",
    "Podemos utilizar `input()` para pedirle a la persona que ingrese un dato que estemos solicitando."
   ]
  },
  {
   "cell_type": "code",
   "execution_count": 10,
   "metadata": {},
   "outputs": [
    {
     "name": "stdout",
     "output_type": "stream",
     "text": [
      "\n",
      "\n"
     ]
    }
   ],
   "source": [
    "# Primer ingreso\n",
    "numero1 = input(\"Escriba un número, por favor: \")\n",
    "\n",
    "print(numero1)\n",
    "\n",
    "# Segundo ingreso\n",
    "numero2 = input(\"Escriba otro número, por favor: \")\n",
    "\n",
    "print(numero2)"
   ]
  },
  {
   "cell_type": "markdown",
   "metadata": {},
   "source": [
    "### Suma de datos del usuario\n",
    "\n",
    "<u>Pregunta</u>: si sumamos estas dos variables, ¿qué obtendremos como resultado?"
   ]
  },
  {
   "cell_type": "code",
   "execution_count": 1,
   "metadata": {},
   "outputs": [
    {
     "name": "stdout",
     "output_type": "stream",
     "text": [
      "1\n",
      "2\n",
      "12\n"
     ]
    }
   ],
   "source": [
    "# Primer ingreso\n",
    "numero1 = input(\"Escriba un número, por favor: \")\n",
    "\n",
    "print(numero1)\n",
    "\n",
    "# Segundo ingreso\n",
    "numero2 = input(\"Escriba otro número, por favor: \")\n",
    "\n",
    "print(numero2)\n",
    "\n",
    "# Suma de ambas variables\n",
    "print(numero1 + numero2)"
   ]
  },
  {
   "cell_type": "markdown",
   "metadata": {},
   "source": [
    "¿Por qué sucede esto? Cuando hicimos uso de `input()` y la persona ingresó el número, Python no lo guardó como tipo de dato de número, si no como una **cadena de caracteres o texto**. Entonces, lo que sucedió aquí sí fue una suma, pero no de números, más bien una **concatenación**."
   ]
  },
  {
   "cell_type": "markdown",
   "metadata": {},
   "source": [
    "### Identificando el tipo de dato\n",
    "\n",
    "<u>Pregunta</u>: ¿Podemos verificar el tipo de dato en Python? Sí. Para este caso en particular, podemos ver con `type()` por qué sucedió una concatenación."
   ]
  },
  {
   "cell_type": "code",
   "execution_count": 12,
   "metadata": {},
   "outputs": [
    {
     "name": "stdout",
     "output_type": "stream",
     "text": [
      "\n",
      "\n",
      "<class 'str'>\n",
      "<class 'str'>\n"
     ]
    }
   ],
   "source": [
    "# Primer ingreso\n",
    "numero1 = input(\"Escriba un número, por favor: \")\n",
    "\n",
    "print(numero1)\n",
    "\n",
    "# Segundo ingreso\n",
    "numero2 = input(\"Escriba otro número, por favor: \")\n",
    "\n",
    "print(numero2)\n",
    "\n",
    "# Impresión de los tipos de variables\n",
    "print(type(numero1))\n",
    "print(type(numero2))"
   ]
  },
  {
   "cell_type": "markdown",
   "metadata": {},
   "source": [
    "Python nos dice que numero1 pertenece a la clase `str`, que sería string. En español, una cadena de caracteres. Si queremos que suceda una adición numérica, lo que tenemos que hacer es convertir el tipo de dato de `string` (texto) a `int` (número entero)."
   ]
  },
  {
   "cell_type": "markdown",
   "metadata": {},
   "source": [
    "### Conversión de tipo de dato: texto a número entero\n",
    "\n",
    "Para convertir un tipo de dato a otro, y en este contexto en particular convertir un `string` (texto) a un `integer` (número entero), haremos uso de `int()`."
   ]
  },
  {
   "cell_type": "code",
   "execution_count": 42,
   "metadata": {},
   "outputs": [
    {
     "name": "stdout",
     "output_type": "stream",
     "text": [
      "1\n",
      "1\n",
      "<class 'int'>\n",
      "<class 'int'>\n",
      "2\n"
     ]
    }
   ],
   "source": [
    "# Primer ingreso\n",
    "numero1 = input(\"Escriba un número, por favor: \")\n",
    "\n",
    "print(numero1)\n",
    "\n",
    "# Segundo ingreso\n",
    "numero2 = input(\"Escriba otro número, por favor: \")\n",
    "\n",
    "print(numero2)\n",
    "\n",
    "# Conversión de tipo de variable\n",
    "numero1 = int(numero1)\n",
    "numero2 = int(numero2)\n",
    "\n",
    "# ¿Qué estamos haciendo aquí? Lo que estamos diciendo es: \n",
    "# convirtamos a int a la variable numero1, \n",
    "# y reasignemos el nuevo tipo de dato a sí mismo, en numero1.\n",
    "# Entonces, ahora podemos verificar que el cambio se ha realizado.\n",
    "\n",
    "print(type(numero1))\n",
    "print(type(numero2))\n",
    "\n",
    "# Ahora podemos realizar ahora ya una suma pero esta vez numérica.\n",
    "print(numero1 + numero2)"
   ]
  },
  {
   "cell_type": "markdown",
   "metadata": {},
   "source": [
    "---"
   ]
  },
  {
   "cell_type": "markdown",
   "metadata": {},
   "source": [
    "# Funciones\n",
    "\n",
    "Una función es un bloque de código que tiene asociado un nombre, de manera que cada vez que se quiera ejecutar el bloque de código basta con invocar el nombre de la función. Una función es un bloque de código, al cual asociamos un nombre. Cada vez que queramos utilizar y ejecutar ese bloque de código en particular, lo “llamamos” o invocamos con el nombre de la función."
   ]
  },
  {
   "cell_type": "code",
   "execution_count": 1,
   "metadata": {},
   "outputs": [
    {
     "name": "stdout",
     "output_type": "stream",
     "text": [
      "Buenas tardes, penguins!\n"
     ]
    }
   ],
   "source": [
    "# Función con texto\n",
    "\n",
    "def mi_funcion():\n",
    "    print(\"Buenas tardes, penguins!\")\n",
    "    # print(\"Mi nombre es Enmanuel\")\n",
    "    # print(\"Juntos estamos aprendiendo Python\")\n",
    "\n",
    "mi_funcion()"
   ]
  },
  {
   "cell_type": "markdown",
   "metadata": {},
   "source": [
    "## Parámetros y argumentos\n",
    "\n",
    "Una función puede recibir valores cuando se invoca a través de unas variables conocidas como parámetros que se definen entre paréntesis en la declaración de la función. En el cuerpo de la función se pueden usar estos parámetros como si fuesen variables. Los valores que se pasan a la función en una llamada o invocación concreta de ella se conocen como argumentos y se asocian a los parámetros de la declaración de la función. Con las funciones podemos utilizar valores, y dependiendo del contexto, reciben nombres diferentes.\n",
    "\n",
    "- <u>Parámetro</u>: cuando la función recibe valores al momento de la definición, estos valores tienen el nombre de parámetros. Los parámetros van entre paréntesis en la definición de la función, y dentro del cuerpo de la función pueden usarse estos valores como si fuesen variables.\n",
    "\n",
    "- <u>Argumento</U>: cuando llamamos la función para que se ejecute, los valores que recibe la función son llamados argumentos, y estos argumentos están asociados a los parámetros que se definieron anteriormente."
   ]
  },
  {
   "cell_type": "code",
   "execution_count": 38,
   "metadata": {},
   "outputs": [
    {
     "name": "stdout",
     "output_type": "stream",
     "text": [
      "Hola. Mi nombre es Sofía!\n"
     ]
    }
   ],
   "source": [
    "def mi_print(nombre):\n",
    "    print(\"Hola. Mi nombre es \" + nombre + \"!\")\n",
    "\n",
    "mi_print(\"Sofía\")"
   ]
  },
  {
   "cell_type": "code",
   "execution_count": 35,
   "metadata": {},
   "outputs": [
    {
     "name": "stdout",
     "output_type": "stream",
     "text": [
      "Hola Alumno. Soy Enmanuel y te doy la bienvenida a Penguin!\n"
     ]
    }
   ],
   "source": [
    "def mi_print_de_bienvenida(nombre_alumno, nombre_coach):\n",
    "    print(\"Hola \" + nombre_alumno + \". Soy \" + nombre_coach + \" y te doy la bienvenida a Penguin!\")\n",
    "\n",
    "mi_print_de_bienvenida(\"Alumno\", \"Enmanuel\")"
   ]
  },
  {
   "cell_type": "markdown",
   "metadata": {},
   "source": [
    "### Ejercicio\n",
    "\n",
    "1. Definir una función que tome dos números como parámetros y los imprima sumándolos."
   ]
  },
  {
   "cell_type": "code",
   "execution_count": 39,
   "metadata": {},
   "outputs": [
    {
     "name": "stdout",
     "output_type": "stream",
     "text": [
      "64\n"
     ]
    }
   ],
   "source": [
    "def sumar_numeros(numero1, numero2): #, c):\n",
    "    print(numero1 + numero2)\n",
    "\n",
    "sumar_numeros(12, 52) #, 100)"
   ]
  },
  {
   "cell_type": "markdown",
   "metadata": {},
   "source": [
    " ## Función personalizada vs función built-in"
   ]
  },
  {
   "cell_type": "markdown",
   "metadata": {},
   "source": [
    "En Python tenemos una lista de funciones que ya están incluidas y podemos utilizarlas cuando queramos. Es más, ya las estuvimos utilizando con `print()`, `int()`, `input()`..."
   ]
  },
  {
   "cell_type": "code",
   "execution_count": 18,
   "metadata": {},
   "outputs": [
    {
     "data": {
      "text/plain": [
       "64"
      ]
     },
     "execution_count": 18,
     "metadata": {},
     "output_type": "execute_result"
    }
   ],
   "source": [
    "numeros = [12, 52]\n",
    "\n",
    "sum(numeros)"
   ]
  },
  {
   "cell_type": "markdown",
   "metadata": {},
   "source": [
    "## Alcance (scope)\n",
    "\n",
    "Los parámetros y las variables declaradas dentro de una función son de ámbito local, mientras que las definidas fuera de ella son de ámbito ámbito global.\n",
    "\n",
    "Una variable o parámetro está solamente disponible dentro de la región donde fue creada. A esto lo llamamos “alcance”.\n",
    "\n",
    "### Alcance local\n",
    "\n",
    "- <u>Alcance local</u>: una variable creada dentro de una función solamente pertenece al alcance de esa función, y solo puede ser utilizada dentro de esa función. Tanto los parámetros como las variables del ámbito local de una función sólo están accesibles durante la ejecución de la función, es decir, cuando termina la ejecución de la función estas variables desaparecen y no son accesibles desde fuera de la función.\n",
    "\n",
    "Así como lo vemos en el ejemplo debajo, la variable `valor` no está disponible fuera de la función, pero sí está disponible para cualquier función dentro de la función."
   ]
  },
  {
   "cell_type": "code",
   "execution_count": 40,
   "metadata": {},
   "outputs": [
    {
     "name": "stdout",
     "output_type": "stream",
     "text": [
      "2000\n"
     ]
    }
   ],
   "source": [
    "def imprimir_precio():\n",
    "    valor = 2000\n",
    "    print(valor)\n",
    "\n",
    "imprimir_precio()"
   ]
  },
  {
   "cell_type": "markdown",
   "metadata": {},
   "source": [
    "- <u>Alcance global</u>: una variable creada en el cuerpo principal del código de Python es una variable global y pertenece al alcance global. Las variables globales están disponibles desde cualquier tipo de alcance, global y local."
   ]
  },
  {
   "cell_type": "code",
   "execution_count": 41,
   "metadata": {},
   "outputs": [
    {
     "name": "stdout",
     "output_type": "stream",
     "text": [
      "10000\n"
     ]
    }
   ],
   "source": [
    "precio_global = 10000\n",
    "\n",
    "def imprimir_precio():\n",
    "    print(precio_global)\n",
    "\n",
    "imprimir_precio()"
   ]
  },
  {
   "cell_type": "markdown",
   "metadata": {},
   "source": [
    "### Ejercicio\n",
    "\n",
    "Escribir una función que calcule el total a abonar por IVA según un monto. La función debe recibir un monto (sin IVA), y devolver el monto a ser abonado solamente por IVA (10%). \n",
    "\n",
    "<u>Observación:</u>\n",
    "\n",
    "1. Para calcular el IVA (10%) multiplicamos por `0.11`.\n",
    "2. Para redondear un número, utilizamos la función `round()`.\n",
    "3. Para convertir a texto un número, utilizamos la función `str()`."
   ]
  },
  {
   "cell_type": "code",
   "execution_count": 32,
   "metadata": {},
   "outputs": [
    {
     "name": "stdout",
     "output_type": "stream",
     "text": [
      "El monto a abonar por IVA es 5500 guaraníes.\n"
     ]
    }
   ],
   "source": [
    "def factura(monto):\n",
    "    monto_iva = monto * 0.11\n",
    "    print(\"El monto a abonar por IVA es \" + str(round(monto_iva)) + \" guaraníes.\")\n",
    "\n",
    "factura(50000)"
   ]
  },
  {
   "cell_type": "markdown",
   "metadata": {},
   "source": [
    "---"
   ]
  },
  {
   "cell_type": "markdown",
   "metadata": {},
   "source": [
    "# Condicionales\n",
    "\n",
    "Evalúa la expresión lógica `condición1` y ejecuta el primer bloque de código si es `True`; si no, evalúa la siguientes condiciones hasta llegar a la primera que es `True` y ejecuta el bloque de código asociado. Si ninguna condición es `True` ejecuta el bloque de código después de `else`.\n",
    "\n",
    "Pueden aparecer varios bloques `elif` pero solo uno `else` al final.\n",
    "\n",
    "La instrucción condicional permite evaluar el estado del programa y tomar decisiones sobre qué código ejecutar en función del mismo."
   ]
  },
  {
   "cell_type": "code",
   "execution_count": 44,
   "metadata": {},
   "outputs": [
    {
     "name": "stdout",
     "output_type": "stream",
     "text": [
      "Menor de edad\n"
     ]
    }
   ],
   "source": [
    "edad_laboral = 17\n",
    "\n",
    "if edad_laboral <= 18 : \n",
    "    print('Menor de edad')\n",
    "elif edad_laboral > 65:\n",
    "    print('Jubilado')\n",
    "else:\n",
    "    print('Activo laboralmente')"
   ]
  },
  {
   "cell_type": "markdown",
   "metadata": {},
   "source": [
    "## Dos condiciones a la vez"
   ]
  },
  {
   "cell_type": "code",
   "execution_count": 49,
   "metadata": {},
   "outputs": [
    {
     "name": "stdout",
     "output_type": "stream",
     "text": [
      "Jubilado\n"
     ]
    }
   ],
   "source": [
    "edad_laboral = 70\n",
    "trabaja = False\n",
    "\n",
    "if edad_laboral < 18: \n",
    "    print('Estudiante menor de edad')\n",
    "elif edad_laboral < 65 and trabaja == True:\n",
    "    print('Activo laboralmente')\n",
    "elif edad_laboral < 65 and trabaja == False:\n",
    "    print('Estudiante')\n",
    "else:\n",
    "    print('Jubilado')"
   ]
  },
  {
   "cell_type": "markdown",
   "metadata": {},
   "source": [
    "### Condición dentro de una función"
   ]
  },
  {
   "cell_type": "code",
   "execution_count": 35,
   "metadata": {},
   "outputs": [
    {
     "name": "stdout",
     "output_type": "stream",
     "text": [
      "Jubilado\n"
     ]
    }
   ],
   "source": [
    "def chequear_edad(edad_laboral, trabaja):\n",
    "    if edad_laboral < 18: \n",
    "        print('Estudiante menor de edad')\n",
    "    elif edad_laboral < 65 and trabaja == True:\n",
    "        print('Activo laboralmente')\n",
    "    elif edad_laboral < 65 and trabaja == False:\n",
    "        print('Estudiante')\n",
    "    else:\n",
    "        print('Jubilado')\n",
    "\n",
    "chequear_edad(70, True)"
   ]
  },
  {
   "cell_type": "markdown",
   "metadata": {},
   "source": [
    "### Ejercicio\n",
    "\n",
    "Escribir un programa en el que se pregunte al usuario por una temperatura (en grados Celsius), imprima la temperatura escrita, y luego clasificar la temperatura ingresada en 3 niveles:\n",
    "\n",
    "1. Entre `-10` y `18` grados, que imprima \"Fresquete\".\n",
    "2. Entre `19` y `30` grados, que imprima \"Calor'i\".\n",
    "3. Entre `31` y `45` grados, que imprima \"Hakuuuuuu\".\n",
    "4. Para todo lo demás, imprimir \"Ñamano mba'e!\"."
   ]
  },
  {
   "cell_type": "code",
   "execution_count": 53,
   "metadata": {},
   "outputs": [
    {
     "name": "stdout",
     "output_type": "stream",
     "text": [
      "Fresquete\n"
     ]
    }
   ],
   "source": [
    "def clasificar_temperatura():\n",
    "    temperatura = int(input(\"Escriba la temperatura en grados Celsius: \"))\n",
    "\n",
    "    if temperatura >= -10 and temperatura <= 18:\n",
    "        print('Fresquete')\n",
    "    elif temperatura >= 19 and temperatura <= 30:\n",
    "        print(\"Calor'i\")\n",
    "    elif temperatura >= 31 and temperatura <= 45:\n",
    "        print(\"Hakuuuuuu\")\n",
    "    else:\n",
    "        print(\"Ñamano mba'e!\")\n",
    "\n",
    "clasificar_temperatura()"
   ]
  },
  {
   "cell_type": "markdown",
   "metadata": {},
   "source": [
    "---"
   ]
  },
  {
   "cell_type": "markdown",
   "metadata": {},
   "source": [
    "# Bucles"
   ]
  },
  {
   "cell_type": "markdown",
   "metadata": {},
   "source": [
    "## Bucles condicionales (while)\n",
    "\n",
    "Repite la ejecución del bloque de código mientras la expresión lógica condición sea cierta.\n",
    "\n",
    "Se puede interrumpir en cualquier momento la ejecución del bloque de código con la instrucción `break`."
   ]
  },
  {
   "cell_type": "code",
   "execution_count": 4,
   "metadata": {},
   "outputs": [
    {
     "name": "stdout",
     "output_type": "stream",
     "text": [
      "1\n",
      "2\n",
      "3\n",
      "0\n"
     ]
    }
   ],
   "source": [
    "numero = None\n",
    "\n",
    "while numero != 0:\n",
    "    numero = int(input('Introduce un número: '))\n",
    "    print(numero)"
   ]
  },
  {
   "cell_type": "code",
   "execution_count": 6,
   "metadata": {},
   "outputs": [
    {
     "name": "stdout",
     "output_type": "stream",
     "text": [
      "hola penguins\n",
      "como estan\n"
     ]
    }
   ],
   "source": [
    "while True:\n",
    "    frase = input(\"Introduce algo: \")\n",
    "    if frase == \"salir\":\n",
    "        break\n",
    "    print(frase)"
   ]
  },
  {
   "cell_type": "markdown",
   "metadata": {},
   "source": [
    "## Ejercicio\n",
    "\n",
    "Escribir un programa que almacene una palabra (texto) en una variable, y pregunte al usuario por una palabra hasta que introduzca la palabra correcta a adivinar."
   ]
  },
  {
   "cell_type": "code",
   "execution_count": 3,
   "metadata": {},
   "outputs": [
    {
     "name": "stdout",
     "output_type": "stream",
     "text": [
      "Palabra incorrecta\n",
      "Palabra correcta\n"
     ]
    }
   ],
   "source": [
    "palabra_correcta = \"penguin\"\n",
    "palabra_ingresada = \"\"\n",
    "\n",
    "while palabra_correcta != palabra_ingresada:\n",
    "    palabra_ingresada = input(\"Introduce la palabra: \")\n",
    "    print(\"Palabra incorrecta\")\n",
    "print(\"Palabra correcta\")"
   ]
  },
  {
   "cell_type": "markdown",
   "metadata": {},
   "source": [
    "---"
   ]
  },
  {
   "cell_type": "markdown",
   "metadata": {},
   "source": [
    "## Bucles iterativos (for)\n",
    "\n",
    "Repite la ejecución del bloque de código para cada elemento de la secuencia secuencia, asignado dicho elemento a `i` en cada repetición.\n",
    "\n",
    "Se puede interrumpir en cualquier momento la ejecución del bloque de código con la instrucción `break` o saltar la ejecución para un determinado elemento de la secuencia con la instrucción continue.\n",
    "\n",
    "Se utiliza fundamentalmente para recorrer colecciones de objetos como cadenas, listas, o diccionarios."
   ]
  },
  {
   "cell_type": "markdown",
   "metadata": {},
   "source": [
    "### Listas\n",
    "\n",
    "Una lista es una secuencias ordenadas de objetos, que pueden ser de distintos tipos de datos. Las construimos colocando los elementos entre corchetes [ ] y separados por comas.\n",
    "\n",
    "<u>Características de las listas</u>: tienen orden, pueden contener elementos de diferentes tipos, son mutables, lo que significa que pueden cambiar durante la ejecución del programa."
   ]
  },
  {
   "cell_type": "code",
   "execution_count": 8,
   "metadata": {},
   "outputs": [
    {
     "name": "stdout",
     "output_type": "stream",
     "text": [
      "naranjas\n",
      "piñas\n",
      "5\n",
      "['naranjas', 'peras', 'piñas', 'kiwis', 'sandías', 'ciruelas']\n",
      "['naranjas', 'duraznos', 'peras', 'piñas', 'kiwis', 'sandías', 'ciruelas']\n",
      "['naranjas', 'duraznos', 'peras', 'piñas', 'sandías', 'ciruelas']\n",
      "['naranjas', 'duraznos', 'peras', 'sandías', 'ciruelas']\n"
     ]
    }
   ],
   "source": [
    "lista_frutas = [\"naranjas\", \"peras\", \"piñas\", \"kiwis\", \"sandías\"]\n",
    "\n",
    "# Diferentes tipos de datos en lista\n",
    "lista_bool = [True, False, True, False]\n",
    "lista_numeros = [1.99, 2, 3, 4.5, 5]\n",
    "lista_variada = [\"peras\", 10, False]\n",
    "\n",
    "# Acceso a elementos de una lista\n",
    "# Un índice es un número entero que indica la posición de un elemento en una lista\n",
    "# El primer elemento de una lista siempre comienza en el índice 0\n",
    "# Por ejemplo, en una lista con 4 elementos, los índices de cada uno de los ítems serían 0, 1, 2 y 3\n",
    "print(lista_frutas[0])\n",
    "print(lista_frutas[2])\n",
    "\n",
    "# Contar elementos de una lista\n",
    "print(len(lista_frutas))\n",
    "\n",
    "# Añadir elemento al final de la lista\n",
    "lista_frutas.append(\"ciruelas\")\n",
    "print(lista_frutas)\n",
    "\n",
    "# insert nos permite añadir el elemento eligiendo la posición\n",
    "lista_frutas.insert(1, \"duraznos\")\n",
    "print(lista_frutas)\n",
    "\n",
    "# Eliminar elemento específico por valor\n",
    "lista_frutas.remove(\"kiwis\")\n",
    "print(lista_frutas)\n",
    "\n",
    "# Eliminar elemento específico por posición\n",
    "lista_frutas.pop(3)\n",
    "print(lista_frutas)"
   ]
  },
  {
   "cell_type": "markdown",
   "metadata": {},
   "source": [
    "# Challenge 🤺\n",
    "\n",
    "## Pedir al usuario que ingrese 1 palabra, luego convertir esa palabra a una lista con sus caracteres.\n",
    "\n",
    "## Agregar esa lista de caracteres a una lista llamada `palabras_ingresadas`.\n",
    "\n",
    "## Repetir el proceso 3 veces.\n",
    "\n",
    "## Cada vez que se agregue una lista de caracteres, imprimir la lista `palabras_ingresadas`."
   ]
  },
  {
   "cell_type": "code",
   "execution_count": 38,
   "metadata": {},
   "outputs": [
    {
     "name": "stdout",
     "output_type": "stream",
     "text": [
      "[['h', 'e', 'l', 'l', 'o']]\n",
      "[['h', 'e', 'l', 'l', 'o'], ['h', 'o', 'l', 'a']]\n",
      "[['h', 'e', 'l', 'l', 'o'], ['h', 'o', 'l', 'a'], ['a', 'l', 'o']]\n"
     ]
    }
   ],
   "source": [
    "# Lista vacías\n",
    "palabras_ingresadas = []\n",
    "\n",
    "# Palabra 1\n",
    "palabra1 = input(\"Ingresar una palabra\")\n",
    "lista_de_letras_1 = list(palabra1)\n",
    "palabras_ingresadas.append(lista_de_letras_1)\n",
    "print(palabras_ingresadas)\n",
    "\n",
    "# Palabra 2\n",
    "palabra2 = input(\"Ingresar una palabra\")\n",
    "lista_de_letras_2 = list(palabra2)\n",
    "palabras_ingresadas.append(lista_de_letras_2)\n",
    "print(palabras_ingresadas)\n",
    "\n",
    "# Palabra 3\n",
    "palabra3 = input(\"Ingresar una palabra\")\n",
    "lista_de_letras_3 = list(palabra3)\n",
    "palabras_ingresadas.append(lista_de_letras_3)\n",
    "print(palabras_ingresadas)"
   ]
  },
  {
   "cell_type": "code",
   "execution_count": 40,
   "metadata": {},
   "outputs": [
    {
     "name": "stdout",
     "output_type": "stream",
     "text": [
      "[['p', 'e', 'r', 'r', 'o']]\n",
      "[['p', 'e', 'r', 'r', 'o'], ['g', 'a', 't', 'o']]\n",
      "[['p', 'e', 'r', 'r', 'o'], ['g', 'a', 't', 'o'], ['e', 'l', 'e', 'f', 'a', 'n', 't', 'e']]\n"
     ]
    }
   ],
   "source": [
    "palabra1 = input('Ingresa una palabra')\n",
    "palabra1 = list(palabra1)\n",
    "palabras_ingresadas = []\n",
    "palabras_ingresadas.append(palabra1)\n",
    "print(palabras_ingresadas)\n",
    "\n",
    "palabra2 = input('Ingresa una palabra')\n",
    "palabra2 = list(palabra2)\n",
    "palabras_ingresadas.append(palabra2)\n",
    "print(palabras_ingresadas)\n",
    "\n",
    "palabra3 = input('Ingresa una palabra')\n",
    "palabra3 = list(palabra3)\n",
    "palabras_ingresadas.append(palabra3)\n",
    "print(palabras_ingresadas)"
   ]
  },
  {
   "cell_type": "markdown",
   "metadata": {},
   "source": [
    "## Volviendo a `for`"
   ]
  },
  {
   "cell_type": "code",
   "execution_count": 9,
   "metadata": {},
   "outputs": [
    {
     "name": "stdout",
     "output_type": "stream",
     "text": [
      "p\n",
      "e\n",
      "n\n",
      "g\n",
      "u\n",
      "i\n",
      "n\n"
     ]
    }
   ],
   "source": [
    "palabra = input(\"Introduzca una palabra: \")\n",
    "\n",
    "for letra in palabra:\n",
    "    print(letra)"
   ]
  },
  {
   "cell_type": "code",
   "execution_count": 14,
   "metadata": {},
   "outputs": [
    {
     "name": "stdout",
     "output_type": "stream",
     "text": [
      "- Pan\n",
      "- Mantequilla\n",
      "- Arándanos\n",
      "- Miel\n"
     ]
    }
   ],
   "source": [
    "lista_compras = [\"Pan\", \"Mantequilla\", \"Arándanos\", \"Miel\"]\n",
    "\n",
    "for cosas in lista_compras:\n",
    "    print('-', cosas)"
   ]
  },
  {
   "cell_type": "code",
   "execution_count": 41,
   "metadata": {},
   "outputs": [
    {
     "name": "stdout",
     "output_type": "stream",
     "text": [
      "Steven tqm nunca cambies xfa\n",
      "Steven tqm nunca cambies xfa\n",
      "Steven tqm nunca cambies xfa\n",
      "Steven tqm nunca cambies xfa\n",
      "Steven tqm nunca cambies xfa\n",
      "Steven tqm nunca cambies xfa\n",
      "Steven tqm nunca cambies xfa\n"
     ]
    }
   ],
   "source": [
    "for frase in range(7):\n",
    "    print(\"Steven tqm nunca cambies xfa\")"
   ]
  },
  {
   "cell_type": "markdown",
   "metadata": {},
   "source": [
    "### Ejercicio\n",
    "\n",
    "Escribir un programa en el que se pregunte al usuario por una frase y una letra, y muestre por pantalla el número de veces que aparece la letra en la frase."
   ]
  },
  {
   "cell_type": "code",
   "execution_count": 23,
   "metadata": {},
   "outputs": [
    {
     "name": "stdout",
     "output_type": "stream",
     "text": [
      "La letra [e] aparece 1 veces en la frase: 'hello'\n"
     ]
    }
   ],
   "source": [
    "frase = input(\"Introduce una frase: \")\n",
    "letra_ingresada = input(\"Introduce una letra: \")\n",
    "\n",
    "contador = 0\n",
    "\n",
    "for letra_de_la_frase in frase:\n",
    "    if letra_de_la_frase == letra_ingresada:\n",
    "        contador += 1\n",
    "print(\"La letra [\" + letra_ingresada + \"] aparece \" + str(contador) + \" veces en la frase: '\" + frase +\"'\")"
   ]
  },
  {
   "cell_type": "code",
   "execution_count": null,
   "metadata": {},
   "outputs": [],
   "source": [
    "frase_usuario = input('Ingrese una frase o palabra')\n",
    "letra_usuario = input('Ingrese una letra')\n",
    "contador = 0\n",
    "\n",
    "for x in frase_usuario:\n",
    "    if letra_usuario == x:\n",
    "        contador = contador + 1\n",
    "    else:\n",
    "        contador\n",
    "\n",
    "print(contador)"
   ]
  },
  {
   "cell_type": "markdown",
   "metadata": {},
   "source": [
    "# Diccionarios\n",
    "\n",
    "Un diccionario es una colección de pares formados por una clave y un valor asociado a la clave. Se construyen poniendo los pares entre llaves { } separados por comas, y separando la clave del valor con dos puntos :.\n",
    "\n",
    "Se caracterizan por:\n",
    "\n",
    "- No tienen orden.\n",
    "- Pueden contener elementos de distintos tipos.\n",
    "- Son mutables, es decir, pueden alterarse durante la ejecución de un programa.\n",
    "- Las claves son únicas, es decir, no pueden repetirse en un mismo diccionario, y pueden ser de cualquier tipo de datos inmutable.\n"
   ]
  },
  {
   "cell_type": "code",
   "execution_count": 3,
   "metadata": {},
   "outputs": [
    {
     "name": "stdout",
     "output_type": "stream",
     "text": [
      "{'nombre': 'Enmanuel', 'apellido': 'Ruffinelli', 'email': 'e@ruffinel.li', 'telefono': 595982440500, 'direccion': 'Manuel del Castillo', 'sitioweb': 'ruffinel.li'}\n",
      "{'nombre': 'Enmanuel', 'apellido': 'Ruffinelli', 'email': 'e@ruffinel.li', 'telefono': 595982440500, 'direccion': 'Manuel del Castillo', 'sitioweb': 'ruffinel.li', 'barrio': 'Los Laureles'}\n",
      "{'nombre': 'Enmanuel', 'apellido': 'Ruffinelli', 'email': 'e@ruffinel.li', 'telefono': 595982440500, 'direccion': 'Manuel del Castillo', 'sitioweb': 'ruffinel.li', 'barrio': 'Recoleta'}\n",
      "{'nombre': 'Enmanuel', 'apellido': 'Ruffinelli', 'email': 'e@ruffinel.li', 'telefono': 595982440500, 'direccion': 'Manuel del Castillo', 'sitioweb': 'ruffinel.li'}\n",
      "{'nombre': 'Enmanuel', 'email': 'e@ruffinel.li', 'telefono': 595982440500, 'direccion': 'Manuel del Castillo', 'sitioweb': 'ruffinel.li'}\n"
     ]
    }
   ],
   "source": [
    "# Ejemplo de diccionario\n",
    "mi_contacto = {\"nombre\": \"Enmanuel\", \"apellido\": \"Ruffinelli\", \"email\": 'e@ruffinel.li', \"telefono\": 595982440500, \"direccion\": \"Manuel del Castillo\", \"sitioweb\": \"ruffinel.li\"}\n",
    "\n",
    "# Ejemplo de diccionario estilizado para una mejor comprensión de claves y valores\n",
    "{\n",
    "    \"nombre\": \"Enmanuel\",\n",
    "    \"apellido\": \"Ruffinelli\",\n",
    "    \"email\": 'e@ruffinel.li',\n",
    "    \"teléfono\": 595982440500\n",
    "}\n",
    "\n",
    "# Imprimir el diccionario\n",
    "print(mi_contacto)\n",
    "\n",
    "# Acceder a datos del diccionario\n",
    "mi_contacto[\"nombre\"]\n",
    "mi_contacto[\"direccion\"]\n",
    "\n",
    "# Desplegar datos del diccionario\n",
    "mi_contacto.keys()\n",
    "mi_contacto.values()\n",
    "mi_contacto.items()\n",
    "\n",
    "# Añadir datos al diccionario\n",
    "mi_contacto[\"barrio\"] = \"Los Laureles\"\n",
    "print(mi_contacto)\n",
    "\n",
    "# Actualizar datos del diccionario\n",
    "mi_contacto[\"barrio\"] = \"Recoleta\"\n",
    "print(mi_contacto)\n",
    "\n",
    "# Eliminar datos del diccionario: ultimo par\n",
    "mi_contacto.popitem()\n",
    "print(mi_contacto)\n",
    "\n",
    "# Eliminar datos del diccionario: por clave\n",
    "del mi_contacto[\"apellido\"]\n",
    "print(mi_contacto)\n",
    "\n"
   ]
  },
  {
   "cell_type": "markdown",
   "metadata": {},
   "source": [
    "## Ejercicio \n",
    "\n",
    "Escribir un programa que cree un diccionario vacío y lo vaya llenado con información sobre una persona (por ejemplo nombre, edad, sexo, teléfono, correo electrónico, etc.) que se le pida al usuario. Cada vez que se añada un nuevo dato debe imprimirse el contenido del diccionario."
   ]
  },
  {
   "cell_type": "code",
   "execution_count": 6,
   "metadata": {},
   "outputs": [
    {
     "name": "stdout",
     "output_type": "stream",
     "text": [
      "{'nombre': 'Enmanuel'}\n",
      "{'nombre': 'Enmanuel', 'apellido': 'Ruffinelli'}\n"
     ]
    }
   ],
   "source": [
    "datos_de_la_persona = {}\n",
    "seguir_preguntando_datos = True\n",
    "\n",
    "while seguir_preguntando_datos:\n",
    "    clave = input('¿Qué dato quieres introducir? ')\n",
    "    valor = input(clave + ': ')\n",
    "    datos_de_la_persona[clave] = valor\n",
    "    print(datos_de_la_persona)\n",
    "    seguir_preguntando_datos = input('¿Quieres añadir más información (S/N)? ') == \"S\""
   ]
  },
  {
   "cell_type": "markdown",
   "metadata": {},
   "source": [
    "---"
   ]
  },
  {
   "cell_type": "markdown",
   "metadata": {},
   "source": [
    "## Ejercicio\n",
    "\n",
    "Crear una tarjeta personal. El usuario (mediante `input`) puede elegir:\n",
    "\n",
    "1. Crear datos nuevos\n",
    "2. Modificar datos\n",
    "3. Eliminar datos"
   ]
  },
  {
   "cell_type": "code",
   "execution_count": 6,
   "metadata": {},
   "outputs": [
    {
     "name": "stdout",
     "output_type": "stream",
     "text": [
      "{'nombre': 'Enmanuel'}\n",
      "{'nombre': 'Enmanuel', 'apellido': 'Ruffinelli'}\n",
      "{'nombre': 'Enma', 'apellido': 'Ruffinelli'}\n",
      "{'nombre': 'Enma'}\n"
     ]
    },
    {
     "ename": "ValueError",
     "evalue": "invalid literal for int() with base 10: ''",
     "output_type": "error",
     "traceback": [
      "\u001b[0;31m---------------------------------------------------------------------------\u001b[0m",
      "\u001b[0;31mValueError\u001b[0m                                Traceback (most recent call last)",
      "\u001b[1;32m/Users/atari/Documents/penguin/2 bootcamp/fundamentals.ipynb Cell 90'\u001b[0m in \u001b[0;36m<module>\u001b[0;34m\u001b[0m\n\u001b[1;32m      <a href='vscode-notebook-cell:/Users/atari/Documents/penguin/2%20bootcamp/fundamentals.ipynb#ch0000089?line=0'>1</a>\u001b[0m tarjeta_personal \u001b[39m=\u001b[39m {}\n\u001b[1;32m      <a href='vscode-notebook-cell:/Users/atari/Documents/penguin/2%20bootcamp/fundamentals.ipynb#ch0000089?line=2'>3</a>\u001b[0m \u001b[39mwhile\u001b[39;00m \u001b[39mTrue\u001b[39;00m:\n\u001b[0;32m----> <a href='vscode-notebook-cell:/Users/atari/Documents/penguin/2%20bootcamp/fundamentals.ipynb#ch0000089?line=3'>4</a>\u001b[0m     menu \u001b[39m=\u001b[39m \u001b[39mint\u001b[39;49m(\u001b[39minput\u001b[39;49m(\u001b[39m\"\u001b[39;49m\u001b[39mSeleccione una opción: \u001b[39;49m\u001b[39m\"\u001b[39;49m))\n\u001b[1;32m      <a href='vscode-notebook-cell:/Users/atari/Documents/penguin/2%20bootcamp/fundamentals.ipynb#ch0000089?line=4'>5</a>\u001b[0m     \u001b[39mif\u001b[39;00m menu \u001b[39m==\u001b[39m \u001b[39m1\u001b[39m:\n\u001b[1;32m      <a href='vscode-notebook-cell:/Users/atari/Documents/penguin/2%20bootcamp/fundamentals.ipynb#ch0000089?line=5'>6</a>\u001b[0m         clave \u001b[39m=\u001b[39m \u001b[39minput\u001b[39m(\u001b[39m'\u001b[39m\u001b[39m¿Qué dato quieres introducir? \u001b[39m\u001b[39m'\u001b[39m)\n",
      "\u001b[0;31mValueError\u001b[0m: invalid literal for int() with base 10: ''"
     ]
    }
   ],
   "source": [
    "tarjeta_personal = {}\n",
    "\n",
    "while True:\n",
    "    menu = int(input(\"Seleccione una opción: \"))\n",
    "    if menu == 1:\n",
    "        clave = input('¿Qué dato quieres introducir? ')\n",
    "        valor = input(clave + ': ')\n",
    "        tarjeta_personal[clave] = valor\n",
    "        print(tarjeta_personal)\n",
    "    elif menu == 2:\n",
    "        clave = input('¿Qué dato quieres cambiar? ')\n",
    "        valor = input(clave + ': ')\n",
    "        tarjeta_personal[clave] = valor\n",
    "        print(tarjeta_personal)\n",
    "    elif menu == 3:\n",
    "        clave = input('¿Qué dato quieres eliminar? ')\n",
    "        del tarjeta_personal[clave]\n",
    "        print(tarjeta_personal)"
   ]
  },
  {
   "cell_type": "markdown",
   "metadata": {},
   "source": [
    "---"
   ]
  },
  {
   "cell_type": "markdown",
   "metadata": {},
   "source": [
    "## Ejercicio\n",
    "\n",
    "Crear una agenda. El usuario puede elegir:\n",
    "\n",
    "1. Mostrar los contactos\n",
    "2. Crear contacto\n",
    "3. Modificar datos del contacto\n"
   ]
  },
  {
   "cell_type": "code",
   "execution_count": null,
   "metadata": {},
   "outputs": [],
   "source": [
    "def crear_contacto(nombre, apellido, telefono, direccion):\n",
    "    # Crear diccionario\n",
    "    contacto = {}\n",
    "    # Cargar datos\n",
    "    contacto[\"Nombre\"] = nombre\n",
    "    contacto[\"Apellido\"] = apellido\n",
    "    contacto[\"Telefono\"] = telefono\n",
    "    contacto[\"Direccion\"] = direccion\n",
    "    # Cargar a agenda\n",
    "    agenda.append(contacto)\n",
    "    \n",
    "agenda = []\n",
    "\n",
    "def mostrar_contacto(agenda):\n",
    "    for contacto in agenda:\n",
    "        print(\"Nombre:\", contacto[\"Nombre\"])\n",
    "        print(\"Apellido:\", contacto[\"Apellido\"])\n",
    "        print(\"Telefono:\", contacto[\"Telefono\"])\n",
    "        print(\"Direccion:\", contacto[\"Direccion\"])\n",
    "\n",
    "# Preguntar por opcion\n",
    "opcion = int(input(\"Seleccione una opcion: \"))\n",
    "\n",
    "while True:\n",
    "    if opcion == 1:\n",
    "        mostrar_contacto(agenda)\n",
    "\n",
    "    elif opcion == 2:\n",
    "        # Carga de datos\n",
    "        nombre_del_contacto = input(\"Ingrese nombre\")\n",
    "        apellido_del_contacto = input(\"Ingrese apellido\")\n",
    "        telefono_del_contacto = input(\"Ingrese telefono\")\n",
    "        direccion_del_contacto = input(\"Ingrese direccion\")\n",
    "        # Llamar a la funcion\n",
    "        crear_contacto(nombre_del_contacto,\n",
    "        apellido_del_contacto, telefono_del_contacto, \n",
    "        direccion_del_contacto)\n",
    "        print(agenda)\n",
    "    elif opcion == 3:\n",
    "        for index,persona in enumerate(agenda):\n",
    "            print(\"Numero \" + str(index + 1), persona[\"Nombre\"])\n",
    "        nro_que_quiere_editar = int(input(\"Nro que quiere editar\")) - 1\n",
    "        # Pedir datos del usuario\n",
    "        dato_a_editar = input(\"Dato a editar\")\n",
    "        nuevo_dato = input(\"Ingrese el nuevo dato\")\n",
    "        # Cargar datos\n",
    "        agenda[nro_que_quiere_editar][dato_a_editar] = nuevo_dato\n",
    "    opcion = int(input(\"Seleccione una opcion: \"))"
   ]
  }
 ],
 "metadata": {
  "interpreter": {
   "hash": "aee8b7b246df8f9039afb4144a1f6fd8d2ca17a180786b69acc140d282b71a49"
  },
  "kernelspec": {
   "display_name": "Python 3.9.10 64-bit",
   "language": "python",
   "name": "python3"
  },
  "language_info": {
   "codemirror_mode": {
    "name": "ipython",
    "version": 3
   },
   "file_extension": ".py",
   "mimetype": "text/x-python",
   "name": "python",
   "nbconvert_exporter": "python",
   "pygments_lexer": "ipython3",
   "version": "3.9.10"
  },
  "orig_nbformat": 4
 },
 "nbformat": 4,
 "nbformat_minor": 2
}
