{
 "cells": [
  {
   "cell_type": "markdown",
   "metadata": {},
   "source": [
    "# Diccionarios\n",
    "\n",
    "Un diccionario es una colección de pares formados por una clave y un valor asociado a la clave. Se construyen poniendo los pares entre llaves { } separados por comas, y separando la clave del valor con dos puntos :.\n",
    "\n",
    "Se caracterizan por:\n",
    "\n",
    "- No tienen orden.\n",
    "- Pueden contener elementos de distintos tipos.\n",
    "- Son mutables, es decir, pueden alterarse durante la ejecución de un programa.\n",
    "- Las claves son únicas, es decir, no pueden repetirse en un mismo diccionario, y pueden ser de cualquier tipo de datos inmutable.\n"
   ]
  },
  {
   "cell_type": "code",
   "execution_count": null,
   "metadata": {},
   "outputs": [],
   "source": [
    "# Ejemplo de diccionario\n",
    "mi_contacto = {\"nombre\": \"Enmanuel\", \"apellido\": \"Ruffinelli\", \"email\": 'e@ruffinel.li', \"telefono\": 595982440500, \"direccion\": \"Manuel del Castillo\", \"sitioweb\": \"ruffinel.li\"}\n",
    "\n",
    "# Ejemplo de diccionario estilizado para una mejor comprensión de claves y valores\n",
    "{\n",
    "    \"nombre\": \"Enmanuel\",\n",
    "    \"apellido\": \"Ruffinelli\",\n",
    "    \"email\": 'e@ruffinel.li',\n",
    "    \"teléfono\": 595982440500\n",
    "}\n",
    "\n",
    "# Imprimir el diccionario\n",
    "print(mi_contacto)\n",
    "\n",
    "# Acceder a datos del diccionario\n",
    "mi_contacto[\"nombre\"]\n",
    "mi_contacto[\"direccion\"]\n",
    "\n",
    "# Desplegar datos del diccionario\n",
    "mi_contacto.keys()\n",
    "mi_contacto.values()\n",
    "mi_contacto.items()\n",
    "\n",
    "# Añadir datos al diccionario\n",
    "mi_contacto[\"barrio\"] = \"Los Laureles\"\n",
    "print(mi_contacto)\n",
    "\n",
    "# Actualizar datos del diccionario\n",
    "mi_contacto[\"barrio\"] = \"Recoleta\"\n",
    "print(mi_contacto)\n",
    "\n",
    "# Eliminar datos del diccionario: ultimo par\n",
    "mi_contacto.popitem()\n",
    "print(mi_contacto)\n",
    "\n",
    "# Eliminar datos del diccionario: por clave\n",
    "del mi_contacto[\"apellido\"]\n",
    "print(mi_contacto)"
   ]
  },
  {
   "cell_type": "markdown",
   "metadata": {},
   "source": [
    "---"
   ]
  },
  {
   "cell_type": "markdown",
   "metadata": {},
   "source": [
    "## Challenge 1 🤺\n",
    "\n",
    "Escribir un programa que cree un diccionario vacío y lo vaya llenado con información sobre una persona (por ejemplo nombre, edad, sexo, teléfono, correo electrónico, etc.) que se le pida al usuario. Cada vez que se añada un nuevo dato debe imprimirse el contenido del diccionario."
   ]
  },
  {
   "cell_type": "code",
   "execution_count": 2,
   "metadata": {},
   "outputs": [
    {
     "name": "stdout",
     "output_type": "stream",
     "text": [
      "{'nombre': 'Enmanuel'}\n"
     ]
    }
   ],
   "source": [
    "datos_de_la_persona = {}\n",
    "seguir_preguntando_datos = True\n",
    "\n",
    "while seguir_preguntando_datos:\n",
    "    clave = input('¿Qué dato quieres introducir? ')\n",
    "    valor = input(clave + ': ')\n",
    "    datos_de_la_persona[clave] = valor\n",
    "    print(datos_de_la_persona)\n",
    "    seguir_preguntando_datos = input('¿Quieres añadir más información (S/N)? ') == \"S\""
   ]
  },
  {
   "cell_type": "markdown",
   "metadata": {},
   "source": [
    "---"
   ]
  },
  {
   "cell_type": "markdown",
   "metadata": {},
   "source": [
    "## Challenge 2 🤺\n",
    "\n",
    "Crear una tarjeta personal. El usuario (mediante `input`) puede elegir:\n",
    "\n",
    "1. Crear datos nuevos\n",
    "2. Modificar datos\n",
    "3. Eliminar datos"
   ]
  },
  {
   "cell_type": "code",
   "execution_count": 1,
   "metadata": {},
   "outputs": [
    {
     "name": "stdout",
     "output_type": "stream",
     "text": [
      "{'nombre': 'enma'}\n"
     ]
    },
    {
     "ename": "ValueError",
     "evalue": "invalid literal for int() with base 10: ''",
     "output_type": "error",
     "traceback": [
      "\u001b[0;31m---------------------------------------------------------------------------\u001b[0m",
      "\u001b[0;31mValueError\u001b[0m                                Traceback (most recent call last)",
      "\u001b[1;32m/Users/atari/Documents/penguin/4 bootcamp/notes/fundamentals/oop & diccionarios/diccionarios.ipynb Cell 8'\u001b[0m in \u001b[0;36m<module>\u001b[0;34m\u001b[0m\n\u001b[1;32m      <a href='vscode-notebook-cell:/Users/atari/Documents/penguin/4%20bootcamp/notes/fundamentals/oop%20%26%20diccionarios/diccionarios.ipynb#ch0000010?line=0'>1</a>\u001b[0m tarjeta_personal \u001b[39m=\u001b[39m {}\n\u001b[1;32m      <a href='vscode-notebook-cell:/Users/atari/Documents/penguin/4%20bootcamp/notes/fundamentals/oop%20%26%20diccionarios/diccionarios.ipynb#ch0000010?line=2'>3</a>\u001b[0m \u001b[39mwhile\u001b[39;00m \u001b[39mTrue\u001b[39;00m:\n\u001b[0;32m----> <a href='vscode-notebook-cell:/Users/atari/Documents/penguin/4%20bootcamp/notes/fundamentals/oop%20%26%20diccionarios/diccionarios.ipynb#ch0000010?line=3'>4</a>\u001b[0m     menu \u001b[39m=\u001b[39m \u001b[39mint\u001b[39;49m(\u001b[39minput\u001b[39;49m(\u001b[39m\"\u001b[39;49m\u001b[39mSeleccione una opción: \u001b[39;49m\u001b[39m\"\u001b[39;49m))\n\u001b[1;32m      <a href='vscode-notebook-cell:/Users/atari/Documents/penguin/4%20bootcamp/notes/fundamentals/oop%20%26%20diccionarios/diccionarios.ipynb#ch0000010?line=4'>5</a>\u001b[0m     \u001b[39mif\u001b[39;00m menu \u001b[39m==\u001b[39m \u001b[39m1\u001b[39m:\n\u001b[1;32m      <a href='vscode-notebook-cell:/Users/atari/Documents/penguin/4%20bootcamp/notes/fundamentals/oop%20%26%20diccionarios/diccionarios.ipynb#ch0000010?line=5'>6</a>\u001b[0m         clave \u001b[39m=\u001b[39m \u001b[39minput\u001b[39m(\u001b[39m'\u001b[39m\u001b[39m¿Qué dato quieres introducir? \u001b[39m\u001b[39m'\u001b[39m)\n",
      "\u001b[0;31mValueError\u001b[0m: invalid literal for int() with base 10: ''"
     ]
    }
   ],
   "source": [
    "tarjeta_personal = {}\n",
    "\n",
    "while True:\n",
    "    menu = int(input(\"Seleccione una opción: \"))\n",
    "    if menu == 1:\n",
    "        clave = input('¿Qué dato quieres introducir? ')\n",
    "        valor = input(clave + ': ')\n",
    "        tarjeta_personal[clave] = valor\n",
    "        print(tarjeta_personal)\n",
    "    elif menu == 2:\n",
    "        clave = input('¿Qué dato quieres cambiar? ')\n",
    "        valor = input(clave + ': ')\n",
    "        tarjeta_personal[clave] = valor\n",
    "        print(tarjeta_personal)\n",
    "    elif menu == 3:\n",
    "        clave = input('¿Qué dato quieres eliminar? ')\n",
    "        del tarjeta_personal[clave]\n",
    "        print(tarjeta_personal)"
   ]
  },
  {
   "cell_type": "markdown",
   "metadata": {},
   "source": [
    "---"
   ]
  },
  {
   "cell_type": "markdown",
   "metadata": {},
   "source": [
    "## Challenge 3 🤺\n",
    "\n",
    "Crear una agenda. El usuario puede elegir:\n",
    "\n",
    "1. Mostrar los contactos\n",
    "2. Crear contacto\n",
    "3. Modificar datos del contacto"
   ]
  },
  {
   "cell_type": "code",
   "execution_count": 4,
   "metadata": {},
   "outputs": [
    {
     "name": "stdout",
     "output_type": "stream",
     "text": [
      "[{'Nombre': 'Enmanuel', 'Apellido': 'Ruffinelli', 'Telefono': '595982440500', 'Direccion': 'Manuel del Castillo'}]\n",
      "Numero 1 Enmanuel\n",
      "Numero 1 Enmanuel\n",
      "Numero 1 Enmanuele\n"
     ]
    },
    {
     "ename": "IndexError",
     "evalue": "list index out of range",
     "output_type": "error",
     "traceback": [
      "\u001b[0;31m---------------------------------------------------------------------------\u001b[0m",
      "\u001b[0;31mIndexError\u001b[0m                                Traceback (most recent call last)",
      "\u001b[1;32m/Users/atari/Documents/penguin/3 bootcamp/notes/fundamentals/oop & diccionarios/diccionarios.ipynb Cell 11'\u001b[0m in \u001b[0;36m<module>\u001b[0;34m\u001b[0m\n\u001b[1;32m     <a href='vscode-notebook-cell:/Users/atari/Documents/penguin/3%20bootcamp/notes/fundamentals/oop%20%26%20diccionarios/diccionarios.ipynb#ch0000010?line=44'>45</a>\u001b[0m     nuevo_dato \u001b[39m=\u001b[39m \u001b[39minput\u001b[39m(\u001b[39m\"\u001b[39m\u001b[39mIngrese el nuevo dato\u001b[39m\u001b[39m\"\u001b[39m)\n\u001b[1;32m     <a href='vscode-notebook-cell:/Users/atari/Documents/penguin/3%20bootcamp/notes/fundamentals/oop%20%26%20diccionarios/diccionarios.ipynb#ch0000010?line=45'>46</a>\u001b[0m     \u001b[39m# Cargar datos\u001b[39;00m\n\u001b[0;32m---> <a href='vscode-notebook-cell:/Users/atari/Documents/penguin/3%20bootcamp/notes/fundamentals/oop%20%26%20diccionarios/diccionarios.ipynb#ch0000010?line=46'>47</a>\u001b[0m     agenda[nro_que_quiere_editar][dato_a_editar] \u001b[39m=\u001b[39m nuevo_dato\n\u001b[1;32m     <a href='vscode-notebook-cell:/Users/atari/Documents/penguin/3%20bootcamp/notes/fundamentals/oop%20%26%20diccionarios/diccionarios.ipynb#ch0000010?line=47'>48</a>\u001b[0m opcion \u001b[39m=\u001b[39m \u001b[39mint\u001b[39m(\u001b[39minput\u001b[39m(\u001b[39m\"\u001b[39m\u001b[39mSeleccione una opcion: \u001b[39m\u001b[39m\"\u001b[39m))\n",
      "\u001b[0;31mIndexError\u001b[0m: list index out of range"
     ]
    }
   ],
   "source": [
    "agenda = []\n",
    "\n",
    "\n",
    "def crear_contacto(nombre, apellido, telefono, direccion):\n",
    "    # Crear diccionario\n",
    "    contacto = {}\n",
    "    # Cargar datos\n",
    "    contacto[\"Nombre\"] = nombre\n",
    "    contacto[\"Apellido\"] = apellido\n",
    "    contacto[\"Telefono\"] = telefono\n",
    "    contacto[\"Direccion\"] = direccion\n",
    "    # Cargar a agenda\n",
    "    agenda.append(contacto)\n",
    "\n",
    "\n",
    "def mostrar_contacto(agenda):\n",
    "    for contacto in agenda:\n",
    "        print(\"Nombre:\", contacto[\"Nombre\"])\n",
    "        print(\"Apellido:\", contacto[\"Apellido\"])\n",
    "        print(\"Telefono:\", contacto[\"Telefono\"])\n",
    "        print(\"Direccion:\", contacto[\"Direccion\"])\n",
    "\n",
    "\n",
    "# Preguntar por opcion\n",
    "opcion = int(input(\"Seleccione una opcion: \"))\n",
    "\n",
    "while True:\n",
    "    if opcion == 1:\n",
    "        mostrar_contacto(agenda)\n",
    "\n",
    "    elif opcion == 2:\n",
    "        # Carga de datos\n",
    "        nombre_del_contacto = input(\"Ingrese nombre\")\n",
    "        apellido_del_contacto = input(\"Ingrese apellido\")\n",
    "        telefono_del_contacto = input(\"Ingrese telefono\")\n",
    "        direccion_del_contacto = input(\"Ingrese direccion\")\n",
    "        # Llamar a la funcion\n",
    "        crear_contacto(\n",
    "            nombre_del_contacto,\n",
    "            apellido_del_contacto,\n",
    "            telefono_del_contacto,\n",
    "            direccion_del_contacto,\n",
    "        )\n",
    "        print(agenda)\n",
    "    elif opcion == 3:\n",
    "        for index, persona in enumerate(agenda):\n",
    "            print(\"Numero \" + str(index + 1), persona[\"Nombre\"])\n",
    "        nro_que_quiere_editar = int(input(\"Nro que quiere editar\")) - 1\n",
    "        # Pedir datos del usuario\n",
    "        dato_a_editar = input(\"Dato a editar\")\n",
    "        nuevo_dato = input(\"Ingrese el nuevo dato\")\n",
    "        # Cargar datos\n",
    "        agenda[nro_que_quiere_editar][dato_a_editar] = nuevo_dato\n",
    "    opcion = int(input(\"Seleccione una opcion: \"))\n"
   ]
  }
 ],
 "metadata": {
  "interpreter": {
   "hash": "aee8b7b246df8f9039afb4144a1f6fd8d2ca17a180786b69acc140d282b71a49"
  },
  "kernelspec": {
   "display_name": "Python 3.9.10 64-bit",
   "language": "python",
   "name": "python3"
  },
  "language_info": {
   "codemirror_mode": {
    "name": "ipython",
    "version": 3
   },
   "file_extension": ".py",
   "mimetype": "text/x-python",
   "name": "python",
   "nbconvert_exporter": "python",
   "pygments_lexer": "ipython3",
   "version": "3.9.12"
  },
  "orig_nbformat": 4
 },
 "nbformat": 4,
 "nbformat_minor": 2
}
