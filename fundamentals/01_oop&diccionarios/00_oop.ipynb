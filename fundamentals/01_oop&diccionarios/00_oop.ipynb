{
 "cells": [
  {
   "cell_type": "markdown",
   "metadata": {},
   "source": [
    "# Programación orientada a objetos"
   ]
  },
  {
   "cell_type": "markdown",
   "metadata": {},
   "source": [
    "Python también permite la programación orientada a objetos, que es un paradigma de programación en la que los datos y las operaciones que pueden realizarse con esos datos se agrupan en unidades lógicas llamadas <b>objetos</b>.\n",
    "\n",
    "Los objetos suelen representar conceptos del dominio del programa, como un estudiante, un coche, un teléfono, etc. Los datos que describen las características del objeto se llaman atributos y son la parte estática del objeto, mientras que las operaciones que puede realizar el objeto se llaman métodos y son la parte dinámica del objeto.\n",
    "\n",
    "La programación orientada a objetos permite simplificar la estructura y la lógica de los grandes programas en los que intervienen muchos objetos que interactúan entre si."
   ]
  },
  {
   "cell_type": "markdown",
   "metadata": {},
   "source": [
    "## Clases"
   ]
  },
  {
   "cell_type": "code",
   "execution_count": null,
   "metadata": {},
   "outputs": [],
   "source": [
    "# Creando una clase vacía\n",
    "class Penguin:\n",
    "    pass\n",
    "\n",
    "# Creamos un objeto de la clase perro\n",
    "mi_pinguino = Penguin()"
   ]
  },
  {
   "cell_type": "markdown",
   "metadata": {},
   "source": [
    "## Definiendo atributos\n",
    "\n",
    "Es importante distinguir que existen dos tipos de atributos:\n",
    "\n",
    "- <u>Atributos de instancia</u>: Pertenecen a la instancia de la clase o al objeto. Son atributos particulares de cada instancia, en nuestro caso de cada perro.\n",
    "- <u>Atributos de clase</u>: Se trata de atributos que pertenecen a la clase, por lo tanto serán comunes para todos los objetos."
   ]
  },
  {
   "cell_type": "code",
   "execution_count": 1,
   "metadata": {},
   "outputs": [
    {
     "name": "stdout",
     "output_type": "stream",
     "text": [
      "Creando pingüino: 'Enri', Emperador\n",
      "<class '__main__.Penguin'>\n",
      "Ave\n",
      "Ave\n",
      "Enri\n",
      "Emperador\n"
     ]
    }
   ],
   "source": [
    "class Penguin:\n",
    "    # Definiendo un atributo de clase\n",
    "    clase = \"Ave\"\n",
    "\n",
    "    # El método __init__ es llamado al crear el objeto\n",
    "    def __init__(self, nombre, especie):\n",
    "        print(\"Creando pingüino: \" + \"'\" + nombre + \"', \" + especie)\n",
    "\n",
    "        # Atributos de instancia\n",
    "        self.nombre = nombre\n",
    "        self.especie = especie\n",
    "\n",
    "# Creando un pingüino\n",
    "mi_pinguino = Penguin(\"Enri\", \"Emperador\")\n",
    "\n",
    "# Viendo qué tipo de dato es mi_pinguino\n",
    "print(type(mi_pinguino))\n",
    "\n",
    "# Viendo qué clase de animal es\n",
    "print(Penguin.clase)\n",
    "print(mi_pinguino.clase)\n",
    "print(mi_pinguino.nombre)\n",
    "print(mi_pinguino.especie)\n"
   ]
  },
  {
   "cell_type": "markdown",
   "metadata": {},
   "source": [
    "## Challenge 🤺\n",
    "\n",
    "Crear dos `class` de animales que tengan atributos de instancia y de clase.\n",
    "\n",
    "- Atributo de instancia: `nombre` & `color`.\n",
    "- Atributo de clase: `especie`.\n",
    "\n",
    "Luego, crear nuevos objetos a partir de las nuevas `class`. Imprimir el `nombre` y el `color` de los animales en una frase que diga: \"Me llamo Alex y soy un ave de color blanco\"."
   ]
  },
  {
   "cell_type": "code",
   "execution_count": null,
   "metadata": {},
   "outputs": [],
   "source": [
    "class Gato:\n",
    "    especie = \"mamifero\"\n",
    "\n",
    "    def __init__ (self, nombre, color):\n",
    "        self.nombre = nombre\n",
    "        self.color = color\n",
    "\n",
    "gato1 = Gato(\"Michi\", \"gris\")\n",
    "\n",
    "class Rana:\n",
    "    especie = \"anfibio\"\n",
    "\n",
    "    def __init__ (self, nombre, color):\n",
    "        self.nombre = nombre\n",
    "        self.color = color\n",
    "\n",
    "rana1 = Rana(\"Rene\", \"Verde\")\n",
    "\n",
    "print(\"Me llamo\", gato1.nombre, \"y soy un\", Gato.especie, \"de color\", gato1.color)\n",
    "print(\"Me llamo\", rana1.nombre, \"y soy un\", Rana.especie, \"de color\", rana1.color)\n",
    "\n"
   ]
  },
  {
   "cell_type": "markdown",
   "metadata": {},
   "source": [
    "---"
   ]
  },
  {
   "cell_type": "markdown",
   "metadata": {},
   "source": [
    "## Definiendo métodos\n",
    "\n",
    "En realidad cuando usamos `__init__` anteriormente ya estábamos definiendo un método, solo que uno especial. A continuación vamos a ver como definir métodos que le den alguna funcionalidad interesante a nuestra clase de pingüino."
   ]
  },
  {
   "cell_type": "code",
   "execution_count": 37,
   "metadata": {},
   "outputs": [
    {
     "name": "stdout",
     "output_type": "stream",
     "text": [
      "Creando pingüino: 'Enri', Emperador\n",
      "<class '__main__.Penguin'>\n",
      "Ave\n",
      "Enri\n",
      "Wooooshhhhh!!!!!\n",
      "Caminando 100 pasos, lenta y torpemente\n"
     ]
    }
   ],
   "source": [
    "class Penguin:\n",
    "    # Definiendo un atributo de clase\n",
    "    clase = \"Ave\"\n",
    "\n",
    "    # El método __init__ es llamado al crear el objeto\n",
    "    def __init__(self, nombre, especie):\n",
    "        print(\"Creando pingüino: \" + \"'\" + nombre + \"', \" + especie)\n",
    "\n",
    "        # Atributos de instancia\n",
    "        self.nombre = nombre\n",
    "        self.especie = especie\n",
    "    \n",
    "    def nada(self):\n",
    "        print(\"Wooooshhhhh!!!!!\")\n",
    "\n",
    "    def camina(self, pasos):\n",
    "        print(f\"Caminando {pasos} pasos, lenta y torpemente\")\n",
    "\n",
    "# Creando un pingüino\n",
    "mi_pinguino = Penguin(\"Enri\", \"Emperador\")\n",
    "\n",
    "# Viendo qué tipo de dato es mi_pinguino\n",
    "print(type(mi_pinguino))\n",
    "\n",
    "# Viendo qué clase de animal es\n",
    "print(Penguin.clase)\n",
    "print(mi_pinguino.nombre)\n",
    "\n",
    "# Métodos: acciones de nuestro pinguino\n",
    "mi_pinguino.nada()\n",
    "mi_pinguino.camina(100)"
   ]
  },
  {
   "cell_type": "markdown",
   "metadata": {},
   "source": [
    "---"
   ]
  },
  {
   "cell_type": "markdown",
   "metadata": {},
   "source": [
    "## Challenge 🤺\n",
    "\n",
    "Crear dos métodos por animal, que sea `hablar` y `moverse`. \n",
    "\n",
    "- En el método `hablar`, imprimir: \"Cuando hablo, digo X\".\n",
    "- En el método `mover`, imprimir: \"Cuando me muevo, hago X\"."
   ]
  },
  {
   "cell_type": "code",
   "execution_count": 1,
   "metadata": {},
   "outputs": [
    {
     "name": "stdout",
     "output_type": "stream",
     "text": [
      "Hola mi nombre es Aquiles y soy un gato de color Blanco\n",
      "Lo unico que mi gato sabe decir esMiau lastimosamente\n",
      "El gato cuando tiene hambre va a la cocina que esta a 100 pasos de su arenero.\n"
     ]
    }
   ],
   "source": [
    "# Solución de participante\n",
    "\n",
    "class Gato:\n",
    "    Especie = \"Mamifero\"\n",
    "    def __init__(self, nombre, color):\n",
    "        print(\"Hola mi nombre es \" + nombre + \" \" \"y soy un gato de color \" + color)\n",
    "        self.nombre = nombre\n",
    "        self.color = color\n",
    "    def habla(self, habla):\n",
    "        print(\"Lo unico que mi gato sabe decir es\" + habla + \" \" \"lastimosamente\")\n",
    "    def pasos(self, paso):\n",
    "        print(f\"El gato cuando tiene hambre va a la cocina que esta a {paso} pasos de su arenero.\")\n",
    "mi_gato = Gato(\"Aquiles\", \"Blanco\")\n",
    "\n",
    "mi_gato.habla(\"Miau\")\n",
    "mi_gato.pasos(100)\n",
    "\n",
    "    \n"
   ]
  },
  {
   "cell_type": "markdown",
   "metadata": {},
   "source": [
    "---"
   ]
  },
  {
   "cell_type": "markdown",
   "metadata": {},
   "source": [
    "## Herencia\n",
    "\n",
    "La herencia es un proceso mediante el cual se puede crear una clase hija que hereda de una clase padre, compartiendo sus métodos y atributos. Además de ello, una clase hija puede sobreescribir los métodos o atributos, o incluso definir unos nuevos.\n",
    "\n",
    "Se puede crear una clase hija con tan solo pasar como parámetro la clase de la que queremos heredar. En el siguiente ejemplo vemos como se puede usar la herencia en Python, con la clase <b>Penguin</b> que hereda de <b>Animal</b>. Así de fácil."
   ]
  },
  {
   "cell_type": "code",
   "execution_count": 48,
   "metadata": {},
   "outputs": [
    {
     "name": "stdout",
     "output_type": "stream",
     "text": [
      "(<class '__main__.Animal'>,)\n",
      "Piton\n",
      "10\n",
      "ssSsssSSSSsssS\n",
      "Soy un animal del tipo Serpiente\n"
     ]
    }
   ],
   "source": [
    "class Animal:\n",
    "    def __init__(self, especie, edad):\n",
    "        self.especie = especie\n",
    "        self.edad = edad\n",
    "\n",
    "    # Método genérico pero con implementación particular\n",
    "    def hablar(self):\n",
    "        # Método vacío\n",
    "        pass\n",
    "\n",
    "    # Método genérico con la misma implementación\n",
    "    def describeme(self):\n",
    "        print(\"Soy un animal del tipo\", type(self).__name__)\n",
    "\n",
    "class Serpiente(Animal):\n",
    "    # Definiendo un atributo de clase\n",
    "    clase = \"Reptil\"\n",
    "\n",
    "    def hablar(self):\n",
    "        print(\"ssSsssSSSSsssS\")\n",
    "\n",
    "# Corroborar la herencia\n",
    "print(Serpiente.__bases__)\n",
    "\n",
    "mi_serpiente = Serpiente(\"Piton\", 10)\n",
    "print(mi_serpiente.especie)\n",
    "print(mi_serpiente.edad)\n",
    "\n",
    "mi_serpiente.hablar()\n",
    "mi_serpiente.describeme()"
   ]
  },
  {
   "cell_type": "markdown",
   "metadata": {},
   "source": [
    "¿Y para que queremos la herencia? Dado que una clase hija hereda los atributos y métodos de la padre, nos puede ser muy útil cuando tengamos clases que se parecen entre sí pero tienen ciertas particularidades. En este caso en vez de definir un montón de clases para cada animal, podemos tomar los elementos comunes y crear una clase Animal de la que hereden el resto, respetando por tanto la filosofía DRY. Realizar estas abstracciones y buscar el denominador común para definir una clase de la que hereden las demás, es una tarea de lo más compleja en el mundo de la programación.\n",
    "\n",
    "Para saber más: El principio DRY (Don't Repeat Yourself) es muy aplicado en el mundo de la programación y consiste en no repetir código de manera innecesaria. Cuanto más código duplicado exista, más difícil será de modificar y más fácil será crear inconsistencias. Las clases y la herencia a no repetir código."
   ]
  },
  {
   "cell_type": "markdown",
   "metadata": {},
   "source": [
    "---"
   ]
  },
  {
   "cell_type": "markdown",
   "metadata": {},
   "source": [
    "## Challenge 🤺\n",
    "\n",
    "Definir una clase madre que herede a sus clases hijas dos atributos de instancia. Mostrar ambos atributos en pantalla desde los objetos de las clases hijas.\n",
    "\n",
    "<u>Observación</u>: Editar las clases hijas para que no se inicialicen."
   ]
  },
  {
   "cell_type": "code",
   "execution_count": 4,
   "metadata": {},
   "outputs": [
    {
     "name": "stdout",
     "output_type": "stream",
     "text": [
      "True\n",
      "True\n"
     ]
    }
   ],
   "source": [
    "# Solución de participante\n",
    "\n",
    "class Terricolas:\n",
    "    def __init__ (self, respirar_carbono, luz_solar):\n",
    "        self.respirar_carbono = respirar_carbono\n",
    "        self.luz_solar = luz_solar\n",
    "\n",
    "class Humanos(Terricolas):\n",
    "    categoria= \"Terrestres\"\n",
    "\n",
    "    def describeme(self):\n",
    "        print(\"Soy un terricola del tipo \", type(self).__name__)\n",
    "\n",
    "paladin = Humanos(True,True)\n",
    "print(paladin.respirar_carbono)\n",
    "print(paladin.luz_solar)\n"
   ]
  }
 ],
 "metadata": {
  "interpreter": {
   "hash": "aee8b7b246df8f9039afb4144a1f6fd8d2ca17a180786b69acc140d282b71a49"
  },
  "kernelspec": {
   "display_name": "Python 3.9.10 64-bit",
   "language": "python",
   "name": "python3"
  },
  "language_info": {
   "codemirror_mode": {
    "name": "ipython",
    "version": 3
   },
   "file_extension": ".py",
   "mimetype": "text/x-python",
   "name": "python",
   "nbconvert_exporter": "python",
   "pygments_lexer": "ipython3",
   "version": "3.9.12"
  },
  "orig_nbformat": 4
 },
 "nbformat": 4,
 "nbformat_minor": 2
}
