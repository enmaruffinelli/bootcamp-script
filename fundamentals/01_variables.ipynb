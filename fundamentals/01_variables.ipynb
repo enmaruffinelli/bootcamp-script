{
 "cells": [
  {
   "cell_type": "markdown",
   "metadata": {},
   "source": [
    "# Variables\n",
    "\n",
    "¿Qué es una variable? Una variable, para la computadora, es un espacio reservado en memoria para guardar valores. Para pensarlo más tangiblemente, lo podríamos pensar como una caja vacía en donde guardamos información. Las variables tienen nombres, y los nombres se llaman “identificadores”. Entonces podríamos decir que las cajas tienen unas etiquetas que las identifican por nombres, y estos nombres son únicos. Como por ejemplo, `numero1`.\n",
    "\n",
    "¿Cómo hacemos para guardar un valor dentro de una variable? Primero escribimos el identificador, que sería el nombre de la variable. Luego, lo asignamos con el símbolo `=` a la derecha, seguido por el valor a ser asignado."
   ]
  },
  {
   "cell_type": "code",
   "execution_count": 2,
   "metadata": {},
   "outputs": [],
   "source": [
    "# Observación: el símbolo = no significa “igualdad” aquí, sino “asignación”.\n",
    "# Recuerden: estamos asignando un valor a una variable, no la estamos comparando.\n",
    "\n",
    "numero1 = 10"
   ]
  },
  {
   "cell_type": "markdown",
   "metadata": {},
   "source": [
    "¿Cómo leemos esto? Dentro de la variable `numero1`, estamos colocando el valor 10. Así ahora dentro de la caja, tenemos el número 10.\n",
    "\n",
    "¿Cómo hacemos para ver el contenido de la variable? Con `print()`."
   ]
  },
  {
   "cell_type": "code",
   "execution_count": 3,
   "metadata": {},
   "outputs": [
    {
     "name": "stdout",
     "output_type": "stream",
     "text": [
      "10\n"
     ]
    }
   ],
   "source": [
    "# Imprimimos el valor de la variable numero1 en la pantalla.\n",
    "\n",
    "print(numero1)"
   ]
  },
  {
   "cell_type": "markdown",
   "metadata": {},
   "source": [
    "## Ejemplo con \"hola mundo\"\n",
    "\n",
    "Asignamos el texto de \"hola mundo\" a la variable `saludo`."
   ]
  },
  {
   "cell_type": "code",
   "execution_count": 4,
   "metadata": {},
   "outputs": [
    {
     "name": "stdout",
     "output_type": "stream",
     "text": [
      "Hola mundo\n"
     ]
    }
   ],
   "source": [
    "saludo = \"Hola mundo\"\n",
    "\n",
    "print(saludo)"
   ]
  },
  {
   "cell_type": "markdown",
   "metadata": {},
   "source": [
    "---"
   ]
  },
  {
   "cell_type": "markdown",
   "metadata": {},
   "source": [
    "## Tipos de datos"
   ]
  },
  {
   "cell_type": "code",
   "execution_count": 5,
   "metadata": {},
   "outputs": [
    {
     "name": "stdout",
     "output_type": "stream",
     "text": [
      "maitei\n",
      "10\n",
      "3.14\n",
      "24\n",
      "0\n",
      "36\n",
      "5.5\n",
      "9.0\n"
     ]
    }
   ],
   "source": [
    "saludo = \"maitei\" # Texto -> strings\n",
    "\n",
    "cantidad = 10 # Número entero -> int\n",
    "\n",
    "pi = 3.14 # Número decimal -> float(ing) numbers\n",
    "\n",
    "print(saludo)\n",
    "print(cantidad)\n",
    "print(pi)\n",
    "\n",
    "# Operaciones aritméticas\n",
    "\n",
    "# Suma\n",
    "print(7 + 8 + 9)\n",
    "\n",
    "# Resta\n",
    "print(10 - 10)\n",
    "\n",
    "# Multiplicacion\n",
    "print(12 * 3)\n",
    "\n",
    "# División\n",
    "print(11 / 2)\n",
    "\n",
    "# Python obedece a la regla matemática de la precedencia de operadores\n",
    "print(2 * 2 + 12 / 2 - 1)"
   ]
  },
  {
   "cell_type": "markdown",
   "metadata": {},
   "source": [
    "---"
   ]
  },
  {
   "cell_type": "markdown",
   "metadata": {},
   "source": [
    "## Challenge 🤺\n",
    "\n",
    "1. Suma: asignar dos números en dos variables diferentes `cantidad_de_manzanas` y `cantidad_de_naranjas`. Luego sumar ambas variables en `cantidad_de_frutas`. Imprimir la última variable.\n",
    "\n",
    "2. Resta: asignar un valor numérico a la variable `frutas_comidas`. Luego, asignar la resta entre `cantidad_de_frutas` y `frutas_comidas` a la variable `frutas_restantes`. Imprimir la última variable."
   ]
  },
  {
   "cell_type": "code",
   "execution_count": 6,
   "metadata": {},
   "outputs": [
    {
     "name": "stdout",
     "output_type": "stream",
     "text": [
      "15\n",
      "8\n"
     ]
    }
   ],
   "source": [
    "# Suma (ejercicio)\n",
    "\n",
    "cantidad_de_manzanas = 5\n",
    "cantidad_de_naranjas = 10\n",
    "cantidad_de_frutas = cantidad_de_manzanas + cantidad_de_naranjas\n",
    "\n",
    "print(cantidad_de_frutas)\n",
    "\n",
    "# Resta (ejercicio)\n",
    "\n",
    "frutas_comidas = 7\n",
    "frutas_restantes = cantidad_de_frutas - frutas_comidas\n",
    "\n",
    "print(frutas_restantes)"
   ]
  },
  {
   "cell_type": "markdown",
   "metadata": {},
   "source": [
    "---"
   ]
  },
  {
   "cell_type": "markdown",
   "metadata": {},
   "source": [
    "## Jugando con texto\n",
    "\n",
    "Las cadenas de caracteres, o texto, son utilizadas al asignarlas a una variable con comillas simples o dobles, indistintamente. Lo importante es que usemos la misma para abrir y cerrar el texto que estamos escribiendo."
   ]
  },
  {
   "cell_type": "code",
   "execution_count": 7,
   "metadata": {},
   "outputs": [
    {
     "name": "stdout",
     "output_type": "stream",
     "text": [
      "Enmanuel\n",
      "Ruffinelli\n"
     ]
    }
   ],
   "source": [
    "nombre = 'Enmanuel'\n",
    "apellido = \"Ruffinelli\"\n",
    "\n",
    "print(nombre)\n",
    "print(apellido)"
   ]
  },
  {
   "cell_type": "markdown",
   "metadata": {},
   "source": [
    "<u>Pregunta</u>: ¿Podemos *sumar* textos? Sí. Y a esto lo llamamos “concatenación”. Unir dos textos sería concatenarlos."
   ]
  },
  {
   "cell_type": "code",
   "execution_count": null,
   "metadata": {},
   "outputs": [],
   "source": [
    "# Concatenación\n",
    "nombre = 'Enmanuel'\n",
    "apellido = 'Ruffinelli'\n",
    "\n",
    "print(nombre + apellido)\n",
    "\n",
    "# También podríamos obtener un resultado más estético. ¿Cómo lo hacemos?\n",
    "print(nombre + \" \" + apellido)"
   ]
  },
  {
   "cell_type": "markdown",
   "metadata": {},
   "source": [
    "---"
   ]
  },
  {
   "cell_type": "markdown",
   "metadata": {},
   "source": [
    "## Challenge 🤺\n",
    "\n",
    "1. Asignar el nombre y el apellido de tu compañera/o a las variables `nombre` y `apellido`. Luego, imprimir la siguiente frase, utilizando las variables: \"Hola. Mi nombre es Enmanuel Ruffinelli. Mucho gusto.\""
   ]
  },
  {
   "cell_type": "code",
   "execution_count": 8,
   "metadata": {},
   "outputs": [
    {
     "name": "stdout",
     "output_type": "stream",
     "text": [
      "Hola. Mi nombre es Enmanuel Ruffinelli. Mucho gusto.\n"
     ]
    }
   ],
   "source": [
    "# Podemos sumar textos + variables del mismo tipo\n",
    "print(\"Hola. Mi nombre es \" + nombre + \" \" + apellido + \". Mucho gusto.\")"
   ]
  },
  {
   "cell_type": "markdown",
   "metadata": {},
   "source": [
    "---"
   ]
  },
  {
   "cell_type": "markdown",
   "metadata": {},
   "source": [
    "## Obteniendo datos del usuario\n",
    "\n",
    "Podemos utilizar `input()` para pedirle a la persona que ingrese un dato que estemos solicitando."
   ]
  },
  {
   "cell_type": "code",
   "execution_count": 9,
   "metadata": {},
   "outputs": [
    {
     "name": "stdout",
     "output_type": "stream",
     "text": [
      "1\n",
      "2\n"
     ]
    }
   ],
   "source": [
    "# Primer ingreso\n",
    "numero1 = input(\"Escriba un número, por favor: \")\n",
    "\n",
    "print(numero1)\n",
    "\n",
    "# Segundo ingreso\n",
    "numero2 = input(\"Escriba otro número, por favor: \")\n",
    "\n",
    "print(numero2)"
   ]
  },
  {
   "cell_type": "markdown",
   "metadata": {},
   "source": [
    "### Suma de datos del usuario\n",
    "\n",
    "<u>Pregunta</u>: si sumamos estas dos variables, ¿qué obtendremos como resultado?"
   ]
  },
  {
   "cell_type": "code",
   "execution_count": null,
   "metadata": {},
   "outputs": [],
   "source": [
    "# Primer ingreso\n",
    "numero1 = input(\"Escriba un número, por favor: \")\n",
    "\n",
    "print(numero1)\n",
    "\n",
    "# Segundo ingreso\n",
    "numero2 = input(\"Escriba otro número, por favor: \")\n",
    "\n",
    "print(numero2)\n",
    "\n",
    "# Suma de ambas variables\n",
    "print(numero1 + numero2)"
   ]
  },
  {
   "cell_type": "markdown",
   "metadata": {},
   "source": [
    "¿Por qué sucede esto? Cuando hicimos uso de `input()` y la persona ingresó el número, Python no lo guardó como tipo de dato de número, si no como una **cadena de caracteres o texto**. Entonces, lo que sucedió aquí sí fue una suma, pero no de números, más bien una **concatenación**."
   ]
  },
  {
   "cell_type": "markdown",
   "metadata": {},
   "source": [
    "---"
   ]
  },
  {
   "cell_type": "markdown",
   "metadata": {},
   "source": [
    "## Identificando el tipo de dato\n",
    "\n",
    "<u>Pregunta</u>: ¿Podemos verificar el tipo de dato en Python? Sí. Para este caso en particular, podemos ver con `type()` por qué sucedió una concatenación."
   ]
  },
  {
   "cell_type": "code",
   "execution_count": null,
   "metadata": {},
   "outputs": [],
   "source": [
    "# Primer ingreso\n",
    "numero1 = input(\"Escriba un número, por favor: \")\n",
    "\n",
    "print(numero1)\n",
    "\n",
    "# Segundo ingreso\n",
    "numero2 = input(\"Escriba otro número, por favor: \")\n",
    "\n",
    "print(numero2)\n",
    "\n",
    "# Impresión de los tipos de variables\n",
    "print(type(numero1))\n",
    "print(type(numero2))"
   ]
  },
  {
   "cell_type": "markdown",
   "metadata": {},
   "source": [
    "Python nos dice que numero1 pertenece a la clase `str`, que sería string. En español, una cadena de caracteres. Si queremos que suceda una adición numérica, lo que tenemos que hacer es convertir el tipo de dato de `string` (texto) a `int` (número entero)."
   ]
  },
  {
   "cell_type": "markdown",
   "metadata": {},
   "source": [
    "---"
   ]
  },
  {
   "cell_type": "markdown",
   "metadata": {},
   "source": [
    "## Conversión de tipo de dato: texto a número entero\n",
    "\n",
    "Para convertir un tipo de dato a otro, y en este contexto en particular convertir un `string` (texto) a un `integer` (número entero), haremos uso de `int()`."
   ]
  },
  {
   "cell_type": "code",
   "execution_count": null,
   "metadata": {},
   "outputs": [],
   "source": [
    "# Primer ingreso\n",
    "numero1 = input(\"Escriba un número, por favor: \")\n",
    "\n",
    "print(numero1)\n",
    "\n",
    "# Segundo ingreso\n",
    "numero2 = input(\"Escriba otro número, por favor: \")\n",
    "\n",
    "print(numero2)\n",
    "\n",
    "# Conversión de tipo de variable\n",
    "numero1 = int(numero1)\n",
    "numero2 = int(numero2)\n",
    "\n",
    "# ¿Qué estamos haciendo aquí? Lo que estamos diciendo es: \n",
    "# convirtamos a int a la variable numero1, \n",
    "# y reasignemos el nuevo tipo de dato a sí mismo, en numero1.\n",
    "# Entonces, ahora podemos verificar que el cambio se ha realizado.\n",
    "\n",
    "print(type(numero1))\n",
    "print(type(numero2))\n",
    "\n",
    "# Ahora podemos realizar ahora ya una suma pero esta vez numérica.\n",
    "print(numero1 + numero2)"
   ]
  }
 ],
 "metadata": {
  "interpreter": {
   "hash": "aee8b7b246df8f9039afb4144a1f6fd8d2ca17a180786b69acc140d282b71a49"
  },
  "kernelspec": {
   "display_name": "Python 3.9.10 64-bit",
   "language": "python",
   "name": "python3"
  },
  "language_info": {
   "codemirror_mode": {
    "name": "ipython",
    "version": 3
   },
   "file_extension": ".py",
   "mimetype": "text/x-python",
   "name": "python",
   "nbconvert_exporter": "python",
   "pygments_lexer": "ipython3",
   "version": "3.9.12"
  },
  "orig_nbformat": 4
 },
 "nbformat": 4,
 "nbformat_minor": 2
}
