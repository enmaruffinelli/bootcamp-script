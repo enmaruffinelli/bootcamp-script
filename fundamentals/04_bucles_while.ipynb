{
 "cells": [
  {
   "cell_type": "markdown",
   "metadata": {},
   "source": [
    "# Bucles condicionales (while)\n",
    "\n",
    "Repite la ejecución del bloque de código mientras la expresión lógica condición sea cierta.\n",
    "\n",
    "Se puede interrumpir en cualquier momento la ejecución del bloque de código con la instrucción `break`."
   ]
  },
  {
   "cell_type": "code",
   "execution_count": 13,
   "metadata": {},
   "outputs": [
    {
     "name": "stdout",
     "output_type": "stream",
     "text": [
      "1\n",
      "2\n",
      "3\n",
      "4\n",
      "5\n",
      "0\n"
     ]
    }
   ],
   "source": [
    "numero = None\n",
    "\n",
    "while numero != 0:\n",
    "    numero = int(input('Introduce un número: '))\n",
    "    print(numero)"
   ]
  },
  {
   "cell_type": "code",
   "execution_count": 2,
   "metadata": {},
   "outputs": [
    {
     "name": "stdout",
     "output_type": "stream",
     "text": [
      "hello\n",
      "hola!\n",
      "maitei\n"
     ]
    }
   ],
   "source": [
    "while True:\n",
    "    frase = input(\"Introduce algo: \")\n",
    "    if frase == \"salir\":\n",
    "        break\n",
    "    print(frase)"
   ]
  },
  {
   "cell_type": "markdown",
   "metadata": {},
   "source": [
    "## Challenge 🤺\n",
    "\n",
    "Escribir un programa que almacene una contraseña en una variable, y pregunte al usuario por la contraseña hasta que introduzca la contraseña correcta."
   ]
  },
  {
   "cell_type": "code",
   "execution_count": 1,
   "metadata": {},
   "outputs": [
    {
     "name": "stdout",
     "output_type": "stream",
     "text": [
      "hola\n",
      "carola\n",
      "asd\n",
      "Contraseña correcta\n"
     ]
    }
   ],
   "source": [
    "key = \"asd\"\n",
    "password = \"\"\n",
    "while password != key:\n",
    "    password = input(\"Introduce la contraseña: \")\n",
    "    print(password)\n",
    "print(\"Contraseña correcta\")"
   ]
  },
  {
   "cell_type": "code",
   "execution_count": 17,
   "metadata": {},
   "outputs": [
    {
     "name": "stdout",
     "output_type": "stream",
     "text": [
      "Palabra incorrecta\n",
      "Palabra incorrecta\n",
      "Palabra correcta\n"
     ]
    }
   ],
   "source": [
    "palabra_correcta = \"penguin\"\n",
    "palabra_ingresada = \"\"\n",
    "palabras_coinciden = False\n",
    "\n",
    "while not palabras_coinciden:\n",
    "    palabra_ingresada = input(\"Introduce la palabra: \")\n",
    "    palabras_coinciden = palabra_correcta == palabra_ingresada\n",
    "    if not palabras_coinciden:\n",
    "        print(\"Palabra incorrecta\")\n",
    "print(\"Palabra correcta\")"
   ]
  },
  {
   "cell_type": "code",
   "execution_count": 1,
   "metadata": {},
   "outputs": [
    {
     "name": "stdout",
     "output_type": "stream",
     "text": [
      "Intente otra vez\n",
      "Intente otra vez\n",
      "Bienvenido\n"
     ]
    }
   ],
   "source": [
    "# Solución de Fede\n",
    "# (Ejemplo de ingresar primero la palabra secreta)\n",
    "\n",
    "password_ingresado = input(\"Escribe tu password de manera secreta\")\n",
    "password_correcto = password_ingresado\n",
    "\n",
    "intento = input(\"Escriba el password\")\n",
    "\n",
    "while intento != password_correcto:\n",
    "    print(\"Intente otra vez\")\n",
    "    intento = input(\"Intente otra vez\")\n",
    "print(\"Bienvenido\")"
   ]
  }
 ],
 "metadata": {
  "interpreter": {
   "hash": "aee8b7b246df8f9039afb4144a1f6fd8d2ca17a180786b69acc140d282b71a49"
  },
  "kernelspec": {
   "display_name": "Python 3.9.10 64-bit",
   "language": "python",
   "name": "python3"
  },
  "language_info": {
   "codemirror_mode": {
    "name": "ipython",
    "version": 3
   },
   "file_extension": ".py",
   "mimetype": "text/x-python",
   "name": "python",
   "nbconvert_exporter": "python",
   "pygments_lexer": "ipython3",
   "version": "3.9.12"
  },
  "orig_nbformat": 4
 },
 "nbformat": 4,
 "nbformat_minor": 2
}
